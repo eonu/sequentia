{
 "cells": [
  {
   "cell_type": "code",
   "execution_count": 1,
   "id": "c7c1baec",
   "metadata": {},
   "outputs": [],
   "source": [
    "import numpy as np\n",
    "import matplotlib.pyplot as plt\n",
    "from sequentia.datasets import load_random_sequences\n",
    "from tslearn.utils import to_time_series_dataset\n",
    "\n",
    "random_state = np.random.RandomState(0)"
   ]
  },
  {
   "cell_type": "code",
   "execution_count": 2,
   "id": "69205abb",
   "metadata": {},
   "outputs": [],
   "source": [
    "dataset = load_random_sequences(1000, n_features=1, n_classes=5, length_range=(5, 20), random_state=random_state)"
   ]
  },
  {
   "cell_type": "code",
   "execution_count": 3,
   "id": "f63cc44c",
   "metadata": {},
   "outputs": [
    {
     "data": {
      "text/plain": [
       "[<matplotlib.lines.Line2D at 0x7fe43b8abd60>]"
      ]
     },
     "execution_count": 3,
     "metadata": {},
     "output_type": "execute_result"
    },
    {
     "data": {
      "image/png": "[encoded data removed]",
      "text/plain": [
       "<Figure size 432x288 with 1 Axes>"
      ]
     },
     "metadata": {
      "needs_background": "light"
     },
     "output_type": "display_data"
    }
   ],
   "source": [
    "x = dataset.X[0]\n",
    "plt.plot(range(len(x)), x)"
   ]
  },
  {
   "cell_type": "code",
   "execution_count": 4,
   "id": "71e84606",
   "metadata": {},
   "outputs": [],
   "source": [
    "import sequentia"
   ]
  },
  {
   "cell_type": "code",
   "execution_count": 5,
   "id": "cfa87c5b",
   "metadata": {},
   "outputs": [
    {
     "name": "stderr",
     "output_type": "stream",
     "text": [
      "/Users/edwinonuonga/Dropbox/My Mac (eonu-1.local)/Desktop/Development/Python/sequentia/lib/sequentia/classifiers/knn/knn_classifier.py:192: UserWarning: Progress bars cannot be displayed when using multiple processes. Set verbose=False to silence this warning.\n",
      "  warnings.warn('Progress bars cannot be displayed when using multiple processes. Set verbose=False to silence this warning.')\n"
     ]
    },
    {
     "name": "stdout",
     "output_type": "stream",
     "text": [
      "CPU times: user 202 ms, sys: 87.7 ms, total: 289 ms\n",
      "Wall time: 6.42 s\n"
     ]
    },
    {
     "data": {
      "text/plain": [
       "(0.89,\n",
       " array([[45,  1,  1,  3,  1],\n",
       "        [ 3, 33,  1,  0,  0],\n",
       "        [ 1,  1, 38,  2,  1],\n",
       "        [ 1,  0,  0, 42,  0],\n",
       "        [ 0,  0,  3,  3, 20]]))"
      ]
     },
     "execution_count": 5,
     "metadata": {},
     "output_type": "execute_result"
    }
   ],
   "source": [
    "%%time\n",
    "clf = sequentia.KNNClassifier(k=1, classes=range(5), use_c=True).fit(*dataset[:800])\n",
    "clf.evaluate(*dataset[800:], n_jobs=-1)"
   ]
  },
  {
   "cell_type": "code",
   "execution_count": 6,
   "id": "a8387922",
   "metadata": {},
   "outputs": [],
   "source": [
    "from tslearn.neighbors import KNeighborsTimeSeriesClassifier"
   ]
  },
  {
   "cell_type": "code",
   "execution_count": 7,
   "id": "0f2d352e",
   "metadata": {},
   "outputs": [],
   "source": [
    "X_tsl = to_time_series_dataset(dataset.X)"
   ]
  },
  {
   "cell_type": "code",
   "execution_count": null,
   "id": "972ded8b",
   "metadata": {},
   "outputs": [
    {
     "name": "stdout",
     "output_type": "stream",
     "text": [
      "CPU times: user 58.2 s, sys: 8.49 s, total: 1min 6s\n",
      "Wall time: 1min 41s\n"
     ]
    },
    {
     "data": {
      "text/plain": [
       "0.89"
      ]
     },
     "execution_count": 8,
     "metadata": {},
     "output_type": "execute_result"
    }
   ],
   "source": [
    "%%time\n",
    "clf_tsl = KNeighborsTimeSeriesClassifier(n_neighbors=1, n_jobs=-1)\n",
    "clf_tsl.fit(X_tsl[:800], dataset.y[:800])\n",
    "clf_tsl.score(X_tsl[800:], dataset.y[800:])"
   ]
  }
 ],
 "metadata": {
  "kernelspec": {
   "display_name": "Python 3 (ipykernel)",
   "language": "python",
   "name": "python3"
  },
  "language_info": {
   "codemirror_mode": {
    "name": "ipython",
    "version": 3
   },
   "file_extension": ".py",
   "mimetype": "text/x-python",
   "name": "python",
   "nbconvert_exporter": "python",
   "pygments_lexer": "ipython3",
   "version": "3.9.7"
  }
 },
 "nbformat": 4,
 "nbformat_minor": 5
}
