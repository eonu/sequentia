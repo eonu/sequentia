{
 "cells": [
  {
   "cell_type": "code",
   "execution_count": 1,
   "metadata": {},
   "outputs": [],
   "source": [
    "import numpy as np"
   ]
  },
  {
   "cell_type": "markdown",
   "metadata": {},
   "source": [
    "# Input formats\n",
    "\n",
    "This tutorial notebook details the accepted input formats for observation sequences and labels accepted by Sequentia.\n",
    "\n",
    "---\n",
    "\n",
    "- [Observation sequences](#Observation-sequences)\n",
    "- [Class labels](#Class-labels)"
   ]
  },
  {
   "cell_type": "markdown",
   "metadata": {},
   "source": [
    "## Observation sequences\n",
    "\n",
    "_Observation sequences are expected to be `numpy.ndarray` objects – with a collection of them being stored in a `list` specifically. The reason for requiring the `list` type is that each observation sequence may be of different length, so a `numpy.ndarray` or matrix type won't work._\n",
    "\n",
    "_Furthermore, since Sequentia generally handles multivariate observation sequences, each `numpy.ndarray` is expected to be two-dimensional, of shape $(T \\times D)$._\n",
    "\n",
    "> **Where**: \n",
    "> - $T$ is the duration of the observation sequence, or number of frames.\n",
    "> - $D$ is the dimensionality of the observation sequence, or number of features.\n",
    "\n",
    "However, one-dimensional Numpy arrays are also supported."
   ]
  },
  {
   "cell_type": "code",
   "execution_count": 2,
   "metadata": {},
   "outputs": [
    {
     "data": {
      "text/plain": [
       "array([[1. , 6.2, 8.8],\n",
       "       [3.5, 2.1, 7.4]])"
      ]
     },
     "metadata": {},
     "output_type": "display_data"
    },
    {
     "name": "stdout",
     "output_type": "stream",
     "text": [
      "Observation sequence shape: (2, 3)\n"
     ]
    }
   ],
   "source": [
    "# Single observation sequence example\n",
    "x = np.array([[1., 6.2, 8.8], [3.5, 2.1, 7.4]]) # T=2, D=3\n",
    "display(x)\n",
    "print('Observation sequence shape: {}'.format(x.shape))"
   ]
  },
  {
   "cell_type": "code",
   "execution_count": 3,
   "metadata": {},
   "outputs": [
    {
     "data": {
      "text/plain": [
       "[array([[0.88106508, 0.99858085, 0.77369155],\n",
       "        [0.28284203, 0.75292064, 0.95375735]]),\n",
       " array([[0.41206904, 0.86036593, 0.58773291],\n",
       "        [0.65625876, 0.20153214, 0.84528973],\n",
       "        [0.39544331, 0.60924804, 0.38701804],\n",
       "        [0.40972901, 0.54378744, 0.08992236]]),\n",
       " array([[0.0499857 , 0.91966294, 0.87008349],\n",
       "        [0.18096322, 0.32062816, 0.24550721],\n",
       "        [0.39841299, 0.76461367, 0.00779053],\n",
       "        [0.31823326, 0.37545643, 0.12359424],\n",
       "        [0.80709865, 0.50087484, 0.65803457],\n",
       "        [0.37960356, 0.56724547, 0.57579345]])]"
      ]
     },
     "metadata": {},
     "output_type": "display_data"
    },
    {
     "name": "stdout",
     "output_type": "stream",
     "text": [
      "Observation sequence shapes: [(2, 3), (4, 3), (6, 3)]\n"
     ]
    }
   ],
   "source": [
    "# Multiple observation sequences example\n",
    "X = [np.random.random((2*i, 3)) for i in range(1, 4)]\n",
    "display(X)\n",
    "print('Observation sequence shapes: {}'.format([x.shape for x in X]))"
   ]
  },
  {
   "cell_type": "markdown",
   "metadata": {},
   "source": [
    "The `fit()` and `evaluate()` functions for all Sequentia classifiers will only accept multiple observation sequences. However, the `predict()` function allows both single and multiple observation sequences."
   ]
  },
  {
   "cell_type": "markdown",
   "metadata": {},
   "source": [
    "## Class labels\n",
    "\n",
    "_Class labels are expected to be `str` objects – with a collection of them being stored in a `list` specifically._\n",
    "\n",
    "---\n",
    "\n",
    "This is as a direct consequence of the [`pomegranate.hmm.HiddenMarkovModel`](https://pomegranate.readthedocs.io/en/latest/HiddenMarkovModel.html#pomegranate.hmm.HiddenMarkovModel) class requiring a string to be passed as the `name` parameter in the constructor. In the case of a HMM classifier, each HMM represents a single class, and therefore we set the `name` of each HMM to be the label of the class it represents.\n",
    "\n",
    "The implementation of $k$-NN in Sequentia can easily be modified internally to handle labels of arbitrary type – but to keep consistent with the above restriction on `HMM`s requiring string labels, the `DTWKNN` class also requires labels to be strings.\n",
    "\n",
    "The `fit()` and `evaluate()` functions for all Sequentia classifiers expect labels to be of type `list(str)`."
   ]
  }
 ],
 "metadata": {
  "kernelspec": {
   "display_name": "Python 3",
   "language": "python",
   "name": "python3"
  },
  "language_info": {
   "codemirror_mode": {
    "name": "ipython",
    "version": 3
   },
   "file_extension": ".py",
   "mimetype": "text/x-python",
   "name": "python",
   "nbconvert_exporter": "python",
   "pygments_lexer": "ipython3",
   "version": "3.7.2"
  }
 },
 "nbformat": 4,
 "nbformat_minor": 2
}
