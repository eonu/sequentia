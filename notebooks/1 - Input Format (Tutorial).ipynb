{
 "cells": [
  {
   "cell_type": "code",
   "execution_count": 1,
   "metadata": {},
   "outputs": [],
   "source": [
    "import numpy as np"
   ]
  },
  {
   "cell_type": "markdown",
   "metadata": {},
   "source": [
    "# Input formats\n",
    "\n",
    "This tutorial notebook details the accepted input formats for observation sequences and labels accepted by Sequentia.\n",
    "\n",
    "---\n",
    "\n",
    "- [Observation sequences](#Observation-sequences)\n",
    "- [Class labels](#Class-labels)"
   ]
  },
  {
   "cell_type": "markdown",
   "metadata": {},
   "source": [
    "## Observation sequences\n",
    "\n",
    "An individual observation sequence is expected to be represented by a $(T \\times D)$ [`numpy.ndarray`](https://numpy.org/doc/stable/reference/generated/numpy.ndarray.html), where $T$ is the duration of the sequence and $D$ is the number of features. If the sequence only has one feature, it can also be represented by a one-dimensional $(T,)$ `numpy.ndarray`.\n",
    "\n",
    "As the duration $T^{(i)}$ of sequence $O^{(i)}$ may be different from any other sequence, **a collection of observation sequences must be stored in a `list`**.\n",
    "\n",
    "---\n",
    "\n",
    "The `fit()` and `evaluate()` functions for all Sequentia classifiers will only accept multiple observation sequences. However, the `predict()` function allows both single and multiple observation sequences."
   ]
  },
  {
   "cell_type": "code",
   "execution_count": 2,
   "metadata": {},
   "outputs": [
    {
     "data": {
      "text/plain": [
       "array([[1. , 6.2, 8.8],\n",
       "       [3.5, 2.1, 7.4]])"
      ]
     },
     "metadata": {},
     "output_type": "display_data"
    },
    {
     "name": "stdout",
     "output_type": "stream",
     "text": [
      "Observation sequence shape: (T = 2, D = 3)\n"
     ]
    }
   ],
   "source": [
    "# Single observation sequence example\n",
    "x = np.array([[1., 6.2, 8.8], [3.5, 2.1, 7.4]])\n",
    "display(x)\n",
    "print('Observation sequence shape: (T = {}, D = {})'.format(*x.shape))"
   ]
  },
  {
   "cell_type": "code",
   "execution_count": 3,
   "metadata": {},
   "outputs": [
    {
     "data": {
      "text/plain": [
       "[array([[0.03130173, 0.75396225, 0.70723105],\n",
       "        [0.16614266, 0.75650318, 0.72474189]]),\n",
       " array([[0.60238758, 0.9529836 , 0.49722337],\n",
       "        [0.38904382, 0.90776179, 0.84512329],\n",
       "        [0.54760414, 0.66003086, 0.09628357],\n",
       "        [0.55706174, 0.64400256, 0.36751279]]),\n",
       " array([[0.69270143, 0.39698291, 0.47950034],\n",
       "        [0.00817308, 0.91378207, 0.92703742],\n",
       "        [0.77324528, 0.59974812, 0.66695837],\n",
       "        [0.55661652, 0.35389679, 0.11509332],\n",
       "        [0.36695717, 0.8114012 , 0.65035435],\n",
       "        [0.79469376, 0.09025447, 0.71253342]])]"
      ]
     },
     "metadata": {},
     "output_type": "display_data"
    },
    {
     "name": "stdout",
     "output_type": "stream",
     "text": [
      "Observation sequence shapes: [(2, 3), (4, 3), (6, 3)]\n"
     ]
    }
   ],
   "source": [
    "# Multiple observation sequences example\n",
    "X = [np.random.random((i * 2, 3)) for i in range(1, 4)]\n",
    "display(X)\n",
    "print('Observation sequence shapes: {}'.format([x.shape for x in X]))"
   ]
  },
  {
   "cell_type": "markdown",
   "metadata": {},
   "source": [
    "## Class labels\n",
    "\n",
    "Each class label is expected to be a string or numeric object. \n",
    "\n",
    "**A collection of class labels can be represented by any array-like object**, given that all labels in the collection are of the same type.\n",
    "\n",
    "---\n",
    "\n",
    "Internally, Sequentia uses the [`sklearn.preprocessing.LabelEncoder`](https://scikit-learn.org/stable/modules/generated/sklearn.preprocessing.LabelEncoder.html) to generate a mapping of the classes to the non-negative integers $0,1,2,\\ldots$. The `predict()` function for all classifiers supports a boolean parameter `original_labels` (defaults to true), which specifies whether or not to return the classes in the $0,1,2,\\ldots$ mapping, or the original labels.\n",
    "\n",
    "The `fit()` and `evaluate()` functions for all Sequentia classifiers will only accept multiple labels. However, the `predict()` function allows both single and multiple labels."
   ]
  }
 ],
 "metadata": {
  "kernelspec": {
   "display_name": "Python 3",
   "language": "python",
   "name": "python3"
  },
  "language_info": {
   "codemirror_mode": {
    "name": "ipython",
    "version": 3
   },
   "file_extension": ".py",
   "mimetype": "text/x-python",
   "name": "python",
   "nbconvert_exporter": "python",
   "pygments_lexer": "ipython3",
   "version": "3.7.4"
  }
 },
 "nbformat": 4,
 "nbformat_minor": 2
}
