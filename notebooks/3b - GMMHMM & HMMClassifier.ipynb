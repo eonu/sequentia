{
 "cells": [
  {
   "cell_type": "markdown",
   "id": "2c8a1463",
   "metadata": {},
   "source": [
    "# Using `GMMHMM` & `HMMClassifier`\n",
    "\n",
    "This notebook aims to showcase how Sequentia's implementation of a HMM classifier based on the dynamic time warping distance measure can be used in a typical sequence classisfication task. \n",
    "\n",
    "In particular, we look at the [Free Spoken Digit Dataset](https://github.com/Jakobovski/free-spoken-digit-dataset), which is an open dataset consisting of audio recordings of spoken digits from 0 to 9. We are interested in the task of determining which digit was spoken based on the audio recordings. Since audio signals are sequential data, we can consider this as a sequence classification problem."
   ]
  },
  {
   "cell_type": "code",
   "execution_count": 1,
   "id": "54d4751a",
   "metadata": {
    "execution": {
     "iopub.execute_input": "2021-04-29T14:19:05.291920Z",
     "iopub.status.busy": "2021-04-29T14:19:05.290830Z",
     "iopub.status.idle": "2021-04-29T14:20:18.368430Z",
     "shell.execute_reply": "2021-04-29T14:20:18.369459Z"
    }
   },
   "outputs": [],
   "source": [
    "import librosa\n",
    "from torchfsdd import TorchFSDDGenerator\n",
    "\n",
    "from sequentia.preprocessing import Standardize, Preprocess, Transform\n",
    "from sequentia.classifiers import GMMHMM, HMMClassifier\n",
    "\n",
    "import matplotlib.pyplot as plt, numpy as np, pandas as pd, seaborn as sns\n",
    "from tqdm.auto import tqdm\n",
    "\n",
    "# Set seed for reproducible randomness\n",
    "seed = 0\n",
    "np.random.seed(seed)\n",
    "rng = np.random.RandomState(seed)"
   ]
  },
  {
   "cell_type": "markdown",
   "id": "06e1d203",
   "metadata": {},
   "source": [
    "To get started, we first decide to use [Mel-Frequency Cepstrum Coefficients (MFCCs)](https://en.wikipedia.org/wiki/Mel-frequency_cepstrum), which are a common way to represent audio for machine learning. \n",
    "\n",
    "While there are methods that work directly with raw signals, the most common approach is to use transformed features such as MFCCs.\n",
    "\n",
    "In short, MFCCs are used to characterize a particular window (usually 20-40ms) of samples of the original signal, by applying signal processing techniques and transformations to obtain a number of representative coefficients. The signal is divided into windows (which may be overlapping), and MFCCs are computed for each one of these frames.\n",
    "\n",
    "Below, we specify 5 MFCCs along with a number of other configurations for the MFCCs.\n",
    "\n",
    "**Note**: 5 MFCCs is far less than what would be used in typical machine learning tasks, but we use a small number just for demonstration purposes."
   ]
  },
  {
   "cell_type": "code",
   "execution_count": 2,
   "id": "52246c9e",
   "metadata": {
    "execution": {
     "iopub.execute_input": "2021-04-29T14:20:18.377415Z",
     "iopub.status.busy": "2021-04-29T14:20:18.376552Z",
     "iopub.status.idle": "2021-04-29T14:20:18.378813Z",
     "shell.execute_reply": "2021-04-29T14:20:18.379606Z"
    }
   },
   "outputs": [],
   "source": [
    "# Set MFCC configuration\n",
    "sr = 8000\n",
    "n_mfcc = 5\n",
    "spec_kwargs = {'n_fft': 1024, 'hop_length': 256, 'power': 2}\n",
    "\n",
    "# Set number of classes\n",
    "n_digits = 10"
   ]
  },
  {
   "cell_type": "markdown",
   "id": "f6dd1377",
   "metadata": {},
   "source": [
    "The below code uses the [`torchfsdd`](https://github.com/eonu/torch-fsdd) package to load a local copy of the FSDD dataset into training and test set splits (80% and 20%, respectively).\n",
    "\n",
    "Unlike typical batch loading used with PyTorch, this classifier requires all data to be loaded into memory at once, which is why we use `load_all=True`."
   ]
  },
  {
   "cell_type": "code",
   "execution_count": 3,
   "id": "d2dd6b32",
   "metadata": {
    "execution": {
     "iopub.execute_input": "2021-04-29T14:20:18.385534Z",
     "iopub.status.busy": "2021-04-29T14:20:18.384354Z",
     "iopub.status.idle": "2021-04-29T14:20:19.286612Z",
     "shell.execute_reply": "2021-04-29T14:20:19.287190Z"
    }
   },
   "outputs": [
    {
     "name": "stdout",
     "output_type": "stream",
     "text": [
      "Training set size: 2400\n",
      "Test set size: 600\n"
     ]
    }
   ],
   "source": [
    "# Initialize a generator for a local version of FSDD, loading all recordings into memory\n",
    "fsdd = TorchFSDDGenerator(version='local', path='recordings', load_all=True)\n",
    "\n",
    "# Create two Torch datasets for a train-test split from the generator\n",
    "train_set, test_set = fsdd.train_test_split(test_size=0.2)\n",
    "print('Training set size: {}'.format(len(train_set)))\n",
    "print('Test set size: {}'.format(len(test_set)))"
   ]
  },
  {
   "cell_type": "markdown",
   "id": "cbaac440",
   "metadata": {},
   "source": [
    "Since `torchfsdd` is intended for creating PyTorch dataset splits, we have to convert these into Numpy arrays."
   ]
  },
  {
   "cell_type": "code",
   "execution_count": 4,
   "id": "2d6116b5",
   "metadata": {
    "execution": {
     "iopub.execute_input": "2021-04-29T14:20:19.292981Z",
     "iopub.status.busy": "2021-04-29T14:20:19.292120Z",
     "iopub.status.idle": "2021-04-29T14:20:19.346991Z",
     "shell.execute_reply": "2021-04-29T14:20:19.347593Z"
    }
   },
   "outputs": [],
   "source": [
    "# Convert Torch tensors to Numpy arrays\n",
    "X_train = [x.detach().cpu().numpy().flatten() for x in train_set.recordings]\n",
    "X_test = [x.detach().cpu().numpy().flatten() for x in test_set.recordings]"
   ]
  },
  {
   "cell_type": "markdown",
   "id": "5d98e138",
   "metadata": {},
   "source": [
    "Next, we create a transformation that generates MFCCs."
   ]
  },
  {
   "cell_type": "code",
   "execution_count": 5,
   "id": "60bfb180",
   "metadata": {
    "execution": {
     "iopub.execute_input": "2021-04-29T14:20:19.355517Z",
     "iopub.status.busy": "2021-04-29T14:20:19.354542Z",
     "iopub.status.idle": "2021-04-29T14:20:19.357008Z",
     "shell.execute_reply": "2021-04-29T14:20:19.357603Z"
    }
   },
   "outputs": [],
   "source": [
    "class MFCC(Transform):\n",
    "    def __init__(self, sr, n_mfcc, spec_kwargs):\n",
    "        super().__init__()\n",
    "        self.sr = sr\n",
    "        self.n_mfcc = n_mfcc\n",
    "        self.spec_kwargs = spec_kwargs\n",
    "        \n",
    "    def transform(self, X, verbose=True):\n",
    "        def mfcc(x):\n",
    "            return librosa.feature.mfcc(x.flatten(), sr=self.sr, n_mfcc=self.n_mfcc+1, **self.spec_kwargs)[1:].T\n",
    "        return self._apply(mfcc, X, verbose)\n",
    "    \n",
    "    def _describe(self):\n",
    "        return 'Generate {} MFCCs with sample rate {}'.format(self.n_mfcc, self.sr)"
   ]
  },
  {
   "cell_type": "markdown",
   "id": "87bd3bf0",
   "metadata": {},
   "source": [
    "Using this new MFCC transformation class, we combine it with standardization so that the coefficients for each window have zero mean and unit variance. This is packaged into a `Preprocess` class, which acts in a similar way as [`torchvision.transforms.Compose`](https://pytorch.org/vision/stable/transforms.html#torchvision.transforms.Compose)."
   ]
  },
  {
   "cell_type": "code",
   "execution_count": 6,
   "id": "f49156c9",
   "metadata": {
    "execution": {
     "iopub.execute_input": "2021-04-29T14:20:19.363274Z",
     "iopub.status.busy": "2021-04-29T14:20:19.362242Z",
     "iopub.status.idle": "2021-04-29T14:20:19.365449Z",
     "shell.execute_reply": "2021-04-29T14:20:19.366158Z"
    }
   },
   "outputs": [
    {
     "name": "stdout",
     "output_type": "stream",
     "text": [
      "                   Preprocessing summary:                   \n",
      "============================================================\n",
      "1. MFCC\n",
      "   Generate 5 MFCCs with sample rate 8000\n",
      "------------------------------------------------------------\n",
      "2. Standardize\n",
      "   Standard scaling (zero mean, unit variance) (independent)\n",
      "============================================================\n"
     ]
    }
   ],
   "source": [
    "# Create preprocessing pipeline\n",
    "transforms = Preprocess([\n",
    "    MFCC(sr, n_mfcc, spec_kwargs),\n",
    "    Standardize()\n",
    "])\n",
    "\n",
    "transforms.summary()"
   ]
  },
  {
   "cell_type": "markdown",
   "id": "e5deb6e2",
   "metadata": {},
   "source": [
    "We apply the same transformations to both the training and test sets."
   ]
  },
  {
   "cell_type": "code",
   "execution_count": 7,
   "id": "15c0fa04",
   "metadata": {
    "execution": {
     "iopub.execute_input": "2021-04-29T14:20:19.372233Z",
     "iopub.status.busy": "2021-04-29T14:20:19.371190Z",
     "iopub.status.idle": "2021-04-29T14:20:28.951821Z",
     "shell.execute_reply": "2021-04-29T14:20:28.952372Z"
    }
   },
   "outputs": [],
   "source": [
    "mfcc_train = transforms(X_train)\n",
    "mfcc_test = transforms(X_test)"
   ]
  },
  {
   "cell_type": "markdown",
   "id": "ab33c050",
   "metadata": {},
   "source": [
    "The figure below shows the difference between the raw audio signal of the pronunciation of a digit 3, and the MFCC representation."
   ]
  },
  {
   "cell_type": "code",
   "execution_count": 8,
   "id": "055a5e91",
   "metadata": {
    "execution": {
     "iopub.execute_input": "2021-04-29T14:20:28.960826Z",
     "iopub.status.busy": "2021-04-29T14:20:28.959819Z",
     "iopub.status.idle": "2021-04-29T14:20:29.288488Z",
     "shell.execute_reply": "2021-04-29T14:20:29.289098Z"
    }
   },
   "outputs": [
    {
     "data": {
      "image/png": "[encoded data removed]",
      "text/plain": [
       "<Figure size 864x180 with 2 Axes>"
      ]
     },
     "metadata": {
      "needs_background": "light"
     },
     "output_type": "display_data"
    }
   ],
   "source": [
    "mfcc, digit = mfcc_train[0], train_set.labels[0]\n",
    "audio, _ = librosa.load(train_set.files[0], sr=sr)\n",
    "time = np.linspace(0, len(audio) / sr, num=len(audio))\n",
    "\n",
    "# Raw audio\n",
    "fig, axs = plt.subplots(ncols=2, figsize=(12, 2.5))\n",
    "axs[0].set(title='Raw audio signal for sample digit {}'.format(digit), xlabel='Time (s)', ylabel='Amplitude')\n",
    "axs[0].plot(time, audio)\n",
    "\n",
    "# MFCCs\n",
    "axs[1].imshow(np.swapaxes(mfcc, 0, 1), interpolation='nearest', cmap='viridis', origin='lower', aspect='auto')\n",
    "axs[1].set(title='MFCCs for sample digit {}'.format(digit), xlabel='Frame', ylabel='MFCC',\n",
    "    xticks=np.arange(len(mfcc)), xticklabels=np.arange(1, len(mfcc) + 1),\n",
    "    yticks=np.arange(n_mfcc), yticklabels=np.arange(1, n_mfcc + 1))\n",
    "\n",
    "plt.show()"
   ]
  },
  {
   "cell_type": "markdown",
   "id": "7c619003",
   "metadata": {},
   "source": [
    "Now we create and 'fit' our HMMs, each being trained only on the observation sequences of the digit that it represents. These are combined to form one `HMMClassifier`. Each HMM has 5 states, and each state's multivariate Gaussian mixture emission distribution consists of 10 components."
   ]
  },
  {
   "cell_type": "code",
   "execution_count": 9,
   "id": "20720e12",
   "metadata": {
    "execution": {
     "iopub.execute_input": "2021-04-29T14:20:29.309673Z",
     "iopub.status.busy": "2021-04-29T14:20:29.308883Z",
     "iopub.status.idle": "2021-04-29T14:25:07.630810Z",
     "shell.execute_reply": "2021-04-29T14:25:07.629254Z"
    }
   },
   "outputs": [
    {
     "data": {
      "application/vnd.jupyter.widget-view+json": {
       "model_id": "ca14b88cd16245c59d2a3b5a5a27b542",
       "version_major": 2,
       "version_minor": 0
      },
      "text/plain": [
       "Training HMMs:   0%|          | 0/10 [00:00<?, ?it/s]"
      ]
     },
     "metadata": {},
     "output_type": "display_data"
    },
    {
     "name": "stdout",
     "output_type": "stream",
     "text": [
      "CPU times: user 8min 2s, sys: 41.9 s, total: 8min 44s\n",
      "Wall time: 4min 38s\n"
     ]
    }
   ],
   "source": [
    "%%time\n",
    "\n",
    "hmms = []\n",
    "for digit in tqdm(range(10), desc='Training HMMs'):\n",
    "    # Create a linear HMM with 5 states and 10 components in the GMM emission state distributions\n",
    "    hmm = GMMHMM(label=digit, n_states=10, n_components=10, topology='left-right', random_state=rng)\n",
    "    # Set random initial state distributions and transition matrix according to the linear topology\n",
    "    hmm.set_random_initial()\n",
    "    hmm.set_random_transitions()\n",
    "    # Fit each HMM only on the observation sequences which had that label\n",
    "    hmm.fit([mfcc_train[i] for i, label in enumerate(train_set.labels) if label == digit])\n",
    "    hmms.append(hmm)\n",
    "    \n",
    "clf = HMMClassifier()\n",
    "clf.fit(hmms)"
   ]
  },
  {
   "cell_type": "markdown",
   "id": "0740d06f",
   "metadata": {},
   "source": [
    "Finally, we evaluate the model on the test set and report accuracy and display a confusion matrix."
   ]
  },
  {
   "cell_type": "code",
   "execution_count": 10,
   "id": "1a8fc388",
   "metadata": {
    "execution": {
     "iopub.execute_input": "2021-04-29T14:25:07.636901Z",
     "iopub.status.busy": "2021-04-29T14:25:07.635975Z",
     "iopub.status.idle": "2021-04-29T14:26:13.950426Z",
     "shell.execute_reply": "2021-04-29T14:26:13.951108Z"
    }
   },
   "outputs": [
    {
     "name": "stdout",
     "output_type": "stream",
     "text": [
      "CPU times: user 178 ms, sys: 90.3 ms, total: 268 ms\n",
      "Wall time: 1min 6s\n"
     ]
    }
   ],
   "source": [
    "%%time\n",
    "\n",
    "acc, cm = clf.evaluate(mfcc_test, test_set.labels, n_jobs=-1)"
   ]
  },
  {
   "cell_type": "code",
   "execution_count": 11,
   "id": "a74f768d",
   "metadata": {
    "execution": {
     "iopub.execute_input": "2021-04-29T14:26:14.022637Z",
     "iopub.status.busy": "2021-04-29T14:26:14.021493Z",
     "iopub.status.idle": "2021-04-29T14:26:14.895763Z",
     "shell.execute_reply": "2021-04-29T14:26:14.896239Z"
    }
   },
   "outputs": [
    {
     "data": {
      "image/png": "[encoded data removed]",
      "text/plain": [
       "<Figure size 504x504 with 1 Axes>"
      ]
     },
     "metadata": {
      "needs_background": "light"
     },
     "output_type": "display_data"
    },
    {
     "name": "stdout",
     "output_type": "stream",
     "text": [
      "Accuracy: 58.83%\n"
     ]
    }
   ],
   "source": [
    "# Display accuracy and confusion matrix\n",
    "labels = range(10)\n",
    "df = pd.DataFrame(cm, index=labels, columns=labels)\n",
    "plt.figure(figsize=(7, 7))\n",
    "sns.heatmap(df, annot=True, cbar=False)\n",
    "plt.title('Confusion matrix for test set predictions', fontsize=14)\n",
    "plt.xlabel('Predicted')\n",
    "plt.ylabel('Actual')\n",
    "plt.show()\n",
    "print('Accuracy: {:.2f}%'.format(acc * 100))"
   ]
  }
 ],
 "metadata": {
  "kernelspec": {
   "display_name": "Python 3",
   "language": "python",
   "name": "python3"
  },
  "language_info": {
   "codemirror_mode": {
    "name": "ipython",
    "version": 3
   },
   "file_extension": ".py",
   "mimetype": "text/x-python",
   "name": "python",
   "nbconvert_exporter": "python",
   "pygments_lexer": "ipython3",
   "version": "3.7.10"
  },
  "widgets": {
   "application/vnd.jupyter.widget-state+json": {
    "state": {
     "0883c36701f54d6fb270ee5c499d11d0": {
      "model_module": "@jupyter-widgets/controls",
      "model_module_version": "1.5.0",
      "model_name": "DescriptionStyleModel",
      "state": {
       "_model_module": "@jupyter-widgets/controls",
       "_model_module_version": "1.5.0",
       "_model_name": "DescriptionStyleModel",
       "_view_count": null,
       "_view_module": "@jupyter-widgets/base",
       "_view_module_version": "1.2.0",
       "_view_name": "StyleView",
       "description_width": ""
      }
     },
     "12e3fad18e214572a78cc0e5013893b0": {
      "model_module": "@jupyter-widgets/controls",
      "model_module_version": "1.5.0",
      "model_name": "DescriptionStyleModel",
      "state": {
       "_model_module": "@jupyter-widgets/controls",
       "_model_module_version": "1.5.0",
       "_model_name": "DescriptionStyleModel",
       "_view_count": null,
       "_view_module": "@jupyter-widgets/base",
       "_view_module_version": "1.2.0",
       "_view_name": "StyleView",
       "description_width": ""
      }
     },
     "198bbbc362ac4de8954a8959a19ae7c3": {
      "model_module": "@jupyter-widgets/base",
      "model_module_version": "1.2.0",
      "model_name": "LayoutModel",
      "state": {
       "_model_module": "@jupyter-widgets/base",
       "_model_module_version": "1.2.0",
       "_model_name": "LayoutModel",
       "_view_count": null,
       "_view_module": "@jupyter-widgets/base",
       "_view_module_version": "1.2.0",
       "_view_name": "LayoutView",
       "align_content": null,
       "align_items": null,
       "align_self": null,
       "border": null,
       "bottom": null,
       "display": null,
       "flex": null,
       "flex_flow": null,
       "grid_area": null,
       "grid_auto_columns": null,
       "grid_auto_flow": null,
       "grid_auto_rows": null,
       "grid_column": null,
       "grid_gap": null,
       "grid_row": null,
       "grid_template_areas": null,
       "grid_template_columns": null,
       "grid_template_rows": null,
       "height": null,
       "justify_content": null,
       "justify_items": null,
       "left": null,
       "margin": null,
       "max_height": null,
       "max_width": null,
       "min_height": null,
       "min_width": null,
       "object_fit": null,
       "object_position": null,
       "order": null,
       "overflow": null,
       "overflow_x": null,
       "overflow_y": null,
       "padding": null,
       "right": null,
       "top": null,
       "visibility": null,
       "width": null
      }
     },
     "65750f1776884e2b9f2f018abdbd15f5": {
      "model_module": "@jupyter-widgets/controls",
      "model_module_version": "1.5.0",
      "model_name": "FloatProgressModel",
      "state": {
       "_dom_classes": [],
       "_model_module": "@jupyter-widgets/controls",
       "_model_module_version": "1.5.0",
       "_model_name": "FloatProgressModel",
       "_view_count": null,
       "_view_module": "@jupyter-widgets/controls",
       "_view_module_version": "1.5.0",
       "_view_name": "ProgressView",
       "bar_style": "success",
       "description": "",
       "description_tooltip": null,
       "layout": "IPY_MODEL_f5f8fbefc77e4aef965b940c41c9b1f5",
       "max": 10.0,
       "min": 0.0,
       "orientation": "horizontal",
       "style": "IPY_MODEL_dcf67320f9894eae945959b58e6ca7ec",
       "value": 10.0
      }
     },
     "6c34b42bbfa34ab58528f32d7a5f0233": {
      "model_module": "@jupyter-widgets/base",
      "model_module_version": "1.2.0",
      "model_name": "LayoutModel",
      "state": {
       "_model_module": "@jupyter-widgets/base",
       "_model_module_version": "1.2.0",
       "_model_name": "LayoutModel",
       "_view_count": null,
       "_view_module": "@jupyter-widgets/base",
       "_view_module_version": "1.2.0",
       "_view_name": "LayoutView",
       "align_content": null,
       "align_items": null,
       "align_self": null,
       "border": null,
       "bottom": null,
       "display": null,
       "flex": null,
       "flex_flow": null,
       "grid_area": null,
       "grid_auto_columns": null,
       "grid_auto_flow": null,
       "grid_auto_rows": null,
       "grid_column": null,
       "grid_gap": null,
       "grid_row": null,
       "grid_template_areas": null,
       "grid_template_columns": null,
       "grid_template_rows": null,
       "height": null,
       "justify_content": null,
       "justify_items": null,
       "left": null,
       "margin": null,
       "max_height": null,
       "max_width": null,
       "min_height": null,
       "min_width": null,
       "object_fit": null,
       "object_position": null,
       "order": null,
       "overflow": null,
       "overflow_x": null,
       "overflow_y": null,
       "padding": null,
       "right": null,
       "top": null,
       "visibility": null,
       "width": null
      }
     },
     "7f7aab9b1e994bdf983615b4c45c6f37": {
      "model_module": "@jupyter-widgets/controls",
      "model_module_version": "1.5.0",
      "model_name": "HTMLModel",
      "state": {
       "_dom_classes": [],
       "_model_module": "@jupyter-widgets/controls",
       "_model_module_version": "1.5.0",
       "_model_name": "HTMLModel",
       "_view_count": null,
       "_view_module": "@jupyter-widgets/controls",
       "_view_module_version": "1.5.0",
       "_view_name": "HTMLView",
       "description": "",
       "description_tooltip": null,
       "layout": "IPY_MODEL_d869adff47e04402b0ddd5a6fb22c876",
       "placeholder": "​",
       "style": "IPY_MODEL_0883c36701f54d6fb270ee5c499d11d0",
       "value": " 10/10 [04:38&lt;00:00, 20.53s/it]"
      }
     },
     "ca14b88cd16245c59d2a3b5a5a27b542": {
      "model_module": "@jupyter-widgets/controls",
      "model_module_version": "1.5.0",
      "model_name": "HBoxModel",
      "state": {
       "_dom_classes": [],
       "_model_module": "@jupyter-widgets/controls",
       "_model_module_version": "1.5.0",
       "_model_name": "HBoxModel",
       "_view_count": null,
       "_view_module": "@jupyter-widgets/controls",
       "_view_module_version": "1.5.0",
       "_view_name": "HBoxView",
       "box_style": "",
       "children": [
        "IPY_MODEL_d6f22e982c37454fb48974598d90e115",
        "IPY_MODEL_65750f1776884e2b9f2f018abdbd15f5",
        "IPY_MODEL_7f7aab9b1e994bdf983615b4c45c6f37"
       ],
       "layout": "IPY_MODEL_198bbbc362ac4de8954a8959a19ae7c3"
      }
     },
     "d6f22e982c37454fb48974598d90e115": {
      "model_module": "@jupyter-widgets/controls",
      "model_module_version": "1.5.0",
      "model_name": "HTMLModel",
      "state": {
       "_dom_classes": [],
       "_model_module": "@jupyter-widgets/controls",
       "_model_module_version": "1.5.0",
       "_model_name": "HTMLModel",
       "_view_count": null,
       "_view_module": "@jupyter-widgets/controls",
       "_view_module_version": "1.5.0",
       "_view_name": "HTMLView",
       "description": "",
       "description_tooltip": null,
       "layout": "IPY_MODEL_6c34b42bbfa34ab58528f32d7a5f0233",
       "placeholder": "​",
       "style": "IPY_MODEL_12e3fad18e214572a78cc0e5013893b0",
       "value": "Training HMMs: 100%"
      }
     },
     "d869adff47e04402b0ddd5a6fb22c876": {
      "model_module": "@jupyter-widgets/base",
      "model_module_version": "1.2.0",
      "model_name": "LayoutModel",
      "state": {
       "_model_module": "@jupyter-widgets/base",
       "_model_module_version": "1.2.0",
       "_model_name": "LayoutModel",
       "_view_count": null,
       "_view_module": "@jupyter-widgets/base",
       "_view_module_version": "1.2.0",
       "_view_name": "LayoutView",
       "align_content": null,
       "align_items": null,
       "align_self": null,
       "border": null,
       "bottom": null,
       "display": null,
       "flex": null,
       "flex_flow": null,
       "grid_area": null,
       "grid_auto_columns": null,
       "grid_auto_flow": null,
       "grid_auto_rows": null,
       "grid_column": null,
       "grid_gap": null,
       "grid_row": null,
       "grid_template_areas": null,
       "grid_template_columns": null,
       "grid_template_rows": null,
       "height": null,
       "justify_content": null,
       "justify_items": null,
       "left": null,
       "margin": null,
       "max_height": null,
       "max_width": null,
       "min_height": null,
       "min_width": null,
       "object_fit": null,
       "object_position": null,
       "order": null,
       "overflow": null,
       "overflow_x": null,
       "overflow_y": null,
       "padding": null,
       "right": null,
       "top": null,
       "visibility": null,
       "width": null
      }
     },
     "dcf67320f9894eae945959b58e6ca7ec": {
      "model_module": "@jupyter-widgets/controls",
      "model_module_version": "1.5.0",
      "model_name": "ProgressStyleModel",
      "state": {
       "_model_module": "@jupyter-widgets/controls",
       "_model_module_version": "1.5.0",
       "_model_name": "ProgressStyleModel",
       "_view_count": null,
       "_view_module": "@jupyter-widgets/base",
       "_view_module_version": "1.2.0",
       "_view_name": "StyleView",
       "bar_color": null,
       "description_width": ""
      }
     },
     "f5f8fbefc77e4aef965b940c41c9b1f5": {
      "model_module": "@jupyter-widgets/base",
      "model_module_version": "1.2.0",
      "model_name": "LayoutModel",
      "state": {
       "_model_module": "@jupyter-widgets/base",
       "_model_module_version": "1.2.0",
       "_model_name": "LayoutModel",
       "_view_count": null,
       "_view_module": "@jupyter-widgets/base",
       "_view_module_version": "1.2.0",
       "_view_name": "LayoutView",
       "align_content": null,
       "align_items": null,
       "align_self": null,
       "border": null,
       "bottom": null,
       "display": null,
       "flex": null,
       "flex_flow": null,
       "grid_area": null,
       "grid_auto_columns": null,
       "grid_auto_flow": null,
       "grid_auto_rows": null,
       "grid_column": null,
       "grid_gap": null,
       "grid_row": null,
       "grid_template_areas": null,
       "grid_template_columns": null,
       "grid_template_rows": null,
       "height": null,
       "justify_content": null,
       "justify_items": null,
       "left": null,
       "margin": null,
       "max_height": null,
       "max_width": null,
       "min_height": null,
       "min_width": null,
       "object_fit": null,
       "object_position": null,
       "order": null,
       "overflow": null,
       "overflow_x": null,
       "overflow_y": null,
       "padding": null,
       "right": null,
       "top": null,
       "visibility": null,
       "width": null
      }
     }
    },
    "version_major": 2,
    "version_minor": 0
   }
  }
 },
 "nbformat": 4,
 "nbformat_minor": 5
}
