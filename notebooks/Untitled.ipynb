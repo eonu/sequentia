{
 "cells": [
  {
   "cell_type": "code",
   "execution_count": 1,
   "id": "13f99f82",
   "metadata": {},
   "outputs": [],
   "source": [
    "import numpy as np"
   ]
  },
  {
   "cell_type": "code",
   "execution_count": 15,
   "id": "22d829c7",
   "metadata": {},
   "outputs": [],
   "source": [
    "classes = range(10)"
   ]
  },
  {
   "cell_type": "code",
   "execution_count": 21,
   "id": "4c81ca89",
   "metadata": {},
   "outputs": [],
   "source": [
    "def _multi_argmax(arr):\n",
    "    \"\"\"Same as numpy.argmax but returns all occurrences of the maximum and only requires a single pass.\n",
    "    From: https://stackoverflow.com/a/58652335\n",
    "    \"\"\"\n",
    "    all_, max_ = [0], arr[0]\n",
    "    for i in range(1, len(arr)):\n",
    "        if arr[i] > max_:\n",
    "            all_, max_ = [i], arr[i]\n",
    "        elif arr[i] == max_:\n",
    "            all_.append(i)\n",
    "    return np.array(all_)"
   ]
  },
  {
   "cell_type": "code",
   "execution_count": 72,
   "id": "8e9c2864",
   "metadata": {},
   "outputs": [],
   "source": [
    "nearest_labels = np.array([5, 2, 3, 2, 4, 7, 1, 3, 3, 0, 7, 7])\n",
    "nearest_scores = np.ones(nearest_labels.size)"
   ]
  },
  {
   "cell_type": "code",
   "execution_count": 135,
   "id": "6939442f",
   "metadata": {},
   "outputs": [
    {
     "data": {
      "text/plain": [
       "array([  1.,   1.,   2.,   3.,   1.,   1., -inf,   3., -inf, -inf])"
      ]
     },
     "execution_count": 135,
     "metadata": {},
     "output_type": "execute_result"
    }
   ],
   "source": [
    "# Sort the labels in ascending order (and sort distances in the same order)\n",
    "sorted_labels_idx = nearest_labels.argsort()\n",
    "sorted_labels, sorted_scores = nearest_labels[sorted_labels_idx], nearest_scores[sorted_labels_idx]\n",
    "# Identify the indices where the sorted labels change (so we can group by labels)\n",
    "change_idx = np.concatenate(([0], np.nonzero(np.diff(sorted_labels))[0] + 1))\n",
    "# Calculate the total score for each label\n",
    "label_scores = np.add.reduceat(sorted_scores, change_idx)\n",
    "# Find the change index of the maximum score(s)\n",
    "max_score_idx = change_idx[_multi_argmax(label_scores)] # self._multi_argmax\n",
    "# Map the change index back to the actual label(s)\n",
    "max_labels = sorted_labels[max_score_idx]\n",
    "# Store class scores\n",
    "scores = np.full(len(classes), -np.inf)\n",
    "scores[sorted_labels[change_idx]] = label_scores\n",
    "scores"
   ]
  },
  {
   "cell_type": "code",
   "execution_count": 74,
   "id": "0b8b1458",
   "metadata": {},
   "outputs": [
    {
     "data": {
      "text/plain": [
       "3"
      ]
     },
     "execution_count": 74,
     "metadata": {},
     "output_type": "execute_result"
    }
   ],
   "source": [
    "np.random.choice(np.argwhere(scores[0] == 1).flatten())"
   ]
  },
  {
   "cell_type": "code",
   "execution_count": 75,
   "id": "37684895",
   "metadata": {},
   "outputs": [
    {
     "data": {
      "text/plain": [
       "array([[[0.        , 0.        , 0.        , 1.        , 0.        ,\n",
       "         0.        , 0.        , 1.        , 0.        , 0.        ],\n",
       "        [0.08333333, 0.08333333, 0.16666667, 0.25      , 0.08333333,\n",
       "         0.08333333, 0.        , 0.25      , 0.        , 0.        ]],\n",
       "\n",
       "       [[0.        , 0.        , 0.        , 1.        , 0.        ,\n",
       "         0.        , 0.        , 1.        , 0.        , 0.        ],\n",
       "        [0.08333333, 0.08333333, 0.16666667, 0.25      , 0.08333333,\n",
       "         0.08333333, 0.        , 0.25      , 0.        , 0.        ]],\n",
       "\n",
       "       [[0.        , 0.        , 0.        , 1.        , 0.        ,\n",
       "         0.        , 0.        , 1.        , 0.        , 0.        ],\n",
       "        [0.08333333, 0.08333333, 0.16666667, 0.25      , 0.08333333,\n",
       "         0.08333333, 0.        , 0.25      , 0.        , 0.        ]],\n",
       "\n",
       "       [[0.        , 0.        , 0.        , 1.        , 0.        ,\n",
       "         0.        , 0.        , 1.        , 0.        , 0.        ],\n",
       "        [0.08333333, 0.08333333, 0.16666667, 0.25      , 0.08333333,\n",
       "         0.08333333, 0.        , 0.25      , 0.        , 0.        ]],\n",
       "\n",
       "       [[0.        , 0.        , 0.        , 1.        , 0.        ,\n",
       "         0.        , 0.        , 1.        , 0.        , 0.        ],\n",
       "        [0.08333333, 0.08333333, 0.16666667, 0.25      , 0.08333333,\n",
       "         0.08333333, 0.        , 0.25      , 0.        , 0.        ]]])"
      ]
     },
     "execution_count": 75,
     "metadata": {},
     "output_type": "execute_result"
    }
   ],
   "source": [
    "S = np.stack([scores] * 5)\n",
    "S"
   ]
  },
  {
   "cell_type": "code",
   "execution_count": 77,
   "id": "30b5a4b0",
   "metadata": {},
   "outputs": [
    {
     "data": {
      "text/plain": [
       "array([[0., 0., 0., 1., 0., 0., 0., 1., 0., 0.],\n",
       "       [0., 0., 0., 1., 0., 0., 0., 1., 0., 0.],\n",
       "       [0., 0., 0., 1., 0., 0., 0., 1., 0., 0.],\n",
       "       [0., 0., 0., 1., 0., 0., 0., 1., 0., 0.],\n",
       "       [0., 0., 0., 1., 0., 0., 0., 1., 0., 0.]])"
      ]
     },
     "execution_count": 77,
     "metadata": {},
     "output_type": "execute_result"
    }
   ],
   "source": [
    "S[:, 0, :]"
   ]
  },
  {
   "cell_type": "code",
   "execution_count": 96,
   "id": "07adb2d8",
   "metadata": {},
   "outputs": [
    {
     "data": {
      "text/plain": [
       "array([[False, False, False,  True, False, False, False,  True, False,\n",
       "        False],\n",
       "       [False, False, False,  True, False, False, False,  True, False,\n",
       "        False],\n",
       "       [False, False, False,  True, False, False, False,  True, False,\n",
       "        False],\n",
       "       [False, False, False,  True, False, False, False,  True, False,\n",
       "        False],\n",
       "       [False, False, False,  True, False, False, False,  True, False,\n",
       "        False]])"
      ]
     },
     "execution_count": 96,
     "metadata": {},
     "output_type": "execute_result"
    }
   ],
   "source": [
    "S[:, 0, :] == 1"
   ]
  },
  {
   "cell_type": "code",
   "execution_count": 98,
   "id": "a7b9d9bf",
   "metadata": {},
   "outputs": [],
   "source": [
    "X = np.array([\n",
    "    [0, 1, 0, 0, 1],\n",
    "    [1, 0, 0, 0, 0],\n",
    "    [0, 0, 1, 1, 0],\n",
    "    [1, 0, 1, 1, 0],\n",
    "    [1, 1, 1, 0, 1],\n",
    "    [0, 0, 0, 1, 1]\n",
    "])"
   ]
  },
  {
   "cell_type": "code",
   "execution_count": 114,
   "id": "7f6f3ab1",
   "metadata": {},
   "outputs": [
    {
     "data": {
      "text/plain": [
       "array([[0, 1],\n",
       "       [0, 4],\n",
       "       [1, 0],\n",
       "       [2, 2],\n",
       "       [2, 3],\n",
       "       [3, 0],\n",
       "       [3, 2],\n",
       "       [3, 3],\n",
       "       [4, 0],\n",
       "       [4, 1],\n",
       "       [4, 2],\n",
       "       [4, 4],\n",
       "       [5, 3],\n",
       "       [5, 4]])"
      ]
     },
     "execution_count": 114,
     "metadata": {},
     "output_type": "execute_result"
    }
   ],
   "source": [
    "x = np.argwhere(X == 1)\n",
    "x"
   ]
  },
  {
   "cell_type": "code",
   "execution_count": 115,
   "id": "4d7bfbd2",
   "metadata": {},
   "outputs": [
    {
     "data": {
      "text/plain": [
       "[array([1, 4]),\n",
       " array([0]),\n",
       " array([2, 3]),\n",
       " array([0, 2, 3]),\n",
       " array([0, 1, 2, 4]),\n",
       " array([3, 4])]"
      ]
     },
     "execution_count": 115,
     "metadata": {},
     "output_type": "execute_result"
    }
   ],
   "source": [
    "np.split(x[:, 1], np.unique(x[:, 0], return_index=True)[1][1:])"
   ]
  },
  {
   "cell_type": "code",
   "execution_count": null,
   "id": "35f86b75",
   "metadata": {},
   "outputs": [],
   "source": []
  }
 ],
 "metadata": {
  "kernelspec": {
   "display_name": "Python 3 (ipykernel)",
   "language": "python",
   "name": "python3"
  },
  "language_info": {
   "codemirror_mode": {
    "name": "ipython",
    "version": 3
   },
   "file_extension": ".py",
   "mimetype": "text/x-python",
   "name": "python",
   "nbconvert_exporter": "python",
   "pygments_lexer": "ipython3",
   "version": "3.9.7"
  }
 },
 "nbformat": 4,
 "nbformat_minor": 5
}
