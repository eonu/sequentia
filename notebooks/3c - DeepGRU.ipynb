{
 "cells": [
  {
   "cell_type": "markdown",
   "id": "5c2826c7",
   "metadata": {},
   "source": [
    "# Using the `DeepGRU` classifier\n",
    "\n",
    "This notebook aims to showcase how Sequentia's PyTorch implementation of recurrent neural networks (specifically the [DeepGRU](https://arxiv.org/abs/1810.12514) architecture) can be used in a typical sequence classisfication task. \n",
    "\n",
    "In particular, we look at the [Free Spoken Digit Dataset](https://github.com/Jakobovski/free-spoken-digit-dataset), which is an open dataset consisting of audio recordings of spoken digits from 0 to 9. We are interested in the task of determining which digit was spoken based on the audio recordings. Since audio signals are sequential data, we can consider this as a sequence classification problem."
   ]
  },
  {
   "cell_type": "code",
   "execution_count": 1,
   "id": "ef15fc93",
   "metadata": {},
   "outputs": [],
   "source": [
    "import torch, torchaudio\n",
    "from torch import utils, nn, optim\n",
    "from torchfsdd import TorchFSDDGenerator\n",
    "from torchaudio.transforms import MFCC\n",
    "from torchvision.transforms import Compose\n",
    "\n",
    "from sequentia.classifiers.rnn import DeepGRU, collate_fn\n",
    "\n",
    "import matplotlib.pyplot as plt, numpy as np, pandas as pd, seaborn as sns\n",
    "from tqdm.auto import tqdm\n",
    "from sklearn.metrics import confusion_matrix"
   ]
  },
  {
   "cell_type": "markdown",
   "id": "93ab97ff",
   "metadata": {},
   "source": [
    "To get started, we first decide to use [Mel-Frequency Cepstrum Coefficients (MFCCs)](https://en.wikipedia.org/wiki/Mel-frequency_cepstrum), which are a common way to represent audio for machine learning. \n",
    "\n",
    "While there are methods that work directly with raw signals, the most common approach is to use transformed features such as MFCCs.\n",
    "\n",
    "In short, MFCCs are used to characterize a particular window (usually 20-40ms) of samples of the original signal, by applying signal processing techniques and transformations to obtain a number of representative coefficients. The signal is divided into windows (which may be overlapping), and MFCCs are computed for each one of these frames.\n",
    "\n",
    "---\n",
    "\n",
    "Below, we specify 5 MFCCs and create a transformation pipeline to generate and standardize them so that the coefficients for each window have zero mean and unit variance.\n",
    "\n",
    "**Notes**: \n",
    "\n",
    "- We also transpose the MFCCs as `DeepGRU` expects a $B\\times T\\times D$ tensor, where $B$ is the batch size, $T$ is the number of frames of the longest recording, and $D$ is the number of MFCCs.\n",
    "- 5 MFCCs is far less than what would be used in typical machine learning tasks, but we use a small number just for demonstration purposes."
   ]
  },
  {
   "cell_type": "code",
   "execution_count": 2,
   "id": "ad435737",
   "metadata": {},
   "outputs": [],
   "source": [
    "# Set MFCC configuration\n",
    "sr = 8000\n",
    "n_mfcc = 5\n",
    "spec_kwargs = {'n_fft': 1024, 'hop_length': 256, 'power': 2}\n",
    "\n",
    "# Set number of classes\n",
    "n_digits = 10\n",
    "\n",
    "# Specify transformations to be applied to the raw audio\n",
    "transforms = Compose([\n",
    "    # Generate 3+1 MFCCs (and remove the first one since it is a constant offset)\n",
    "    lambda audio: MFCC(sample_rate=sr, n_mfcc=n_mfcc+1, melkwargs=spec_kwargs)(audio)[1:],\n",
    "    # Standardize MFCCs for each frame\n",
    "    lambda mfcc: (mfcc - mfcc.mean(axis=0)) / mfcc.std(axis=0),\n",
    "    # Transpose from DxT to TxD\n",
    "    lambda mfcc: mfcc.transpose(1, 0)\n",
    "])"
   ]
  },
  {
   "cell_type": "markdown",
   "id": "8b18188a",
   "metadata": {},
   "source": [
    "The below code uses the [`torchfsdd`](https://github.com/eonu/torch-fsdd) package to load a local copy of the FSDD dataset into training and test set splits (80% and 20%, respectively).\n",
    "\n",
    "The transformations are applied on the fly, whenever you index a recording in the dataset."
   ]
  },
  {
   "cell_type": "code",
   "execution_count": 3,
   "id": "95b83c0f",
   "metadata": {},
   "outputs": [
    {
     "name": "stdout",
     "output_type": "stream",
     "text": [
      "Training set size: 2400\n",
      "Test set size: 600\n"
     ]
    }
   ],
   "source": [
    "# Initialize a generator for a local version of FSDD\n",
    "fsdd = TorchFSDDGenerator(version='local', path='recordings', transforms=transforms)\n",
    "\n",
    "# Create two Torch datasets for a train-test split from the generator\n",
    "train_set, test_set = fsdd.train_test_split(test_size=0.2)\n",
    "print('Training set size: {}'.format(len(train_set)))\n",
    "print('Test set size: {}'.format(len(test_set)))"
   ]
  },
  {
   "cell_type": "markdown",
   "id": "9f84bb1d",
   "metadata": {},
   "source": [
    "The figure below shows the difference between the raw audio signal of the pronunciation of a digit 3, and the MFCC representation."
   ]
  },
  {
   "cell_type": "code",
   "execution_count": 4,
   "id": "9bb15799",
   "metadata": {},
   "outputs": [
    {
     "data": {
      "image/png": "[encoded data removed]",
      "text/plain": [
       "<Figure size 864x180 with 2 Axes>"
      ]
     },
     "metadata": {
      "needs_background": "light"
     },
     "output_type": "display_data"
    }
   ],
   "source": [
    "mfcc, digit = train_set[0]\n",
    "audio, sr = torchaudio.load(train_set.files[0], channels_first=False)\n",
    "time = np.linspace(0, len(audio) / sr, num=len(audio))\n",
    "\n",
    "# Raw audio\n",
    "fig, axs = plt.subplots(ncols=2, figsize=(12, 2.5))\n",
    "axs[0].set(title='Raw audio signal for sample digit {}'.format(digit), xlabel='Time (s)', ylabel='Amplitude')\n",
    "axs[0].plot(time, audio)\n",
    "\n",
    "# MFCCs\n",
    "axs[1].imshow(np.swapaxes(mfcc, 0, 1), interpolation='nearest', cmap='viridis', origin='lower', aspect='auto')\n",
    "axs[1].set(title='MFCCs for sample digit {}'.format(digit), xlabel='Frame', ylabel='MFCC',\n",
    "    xticks=np.arange(len(mfcc)), xticklabels=np.arange(1, len(mfcc) + 1),\n",
    "    yticks=np.arange(n_mfcc), yticklabels=np.arange(1, n_mfcc + 1))\n",
    "\n",
    "plt.show()"
   ]
  },
  {
   "cell_type": "markdown",
   "id": "ce8f84be",
   "metadata": {},
   "source": [
    "We now create PyTorch data loaders using the previously defined PyTorch datasets, along with the `collate_fn` function provided by Sequentia. The data loaders group together recordings of similar duration into a single batch, as specified by `collate_fn`. \n",
    "\n",
    "We use a batch size of 64 for the training set, and use single batch for the test set."
   ]
  },
  {
   "cell_type": "code",
   "execution_count": 5,
   "id": "48289042",
   "metadata": {},
   "outputs": [],
   "source": [
    "# Create training, validation and test set batch iterators\n",
    "train_gen = utils.data.DataLoader(train_set, collate_fn=collate_fn, batch_size=64, shuffle=True, num_workers=0)\n",
    "test_gen = utils.data.DataLoader(test_set, collate_fn=collate_fn, batch_size=len(test_set), num_workers=0)"
   ]
  },
  {
   "cell_type": "markdown",
   "id": "c1afa7ff",
   "metadata": {},
   "source": [
    "Next, we initialize the `DeepGRU` model by specifying the dimensions of the input, and the number of classes."
   ]
  },
  {
   "cell_type": "code",
   "execution_count": 6,
   "id": "b6ce3835",
   "metadata": {},
   "outputs": [],
   "source": [
    "# Create a DeepGRU neural network model\n",
    "model = DeepGRU(n_mfcc, n_digits)"
   ]
  },
  {
   "cell_type": "markdown",
   "id": "3e2ad895",
   "metadata": {},
   "source": [
    "At this stage if you wanted to specify a specific device such as a CUDA-supported GPU, you should do the following instead.\n",
    "\n",
    "```python\n",
    "model = DeepGRU(n_mfcc, n_digits, device='cuda:0')\n",
    "```"
   ]
  },
  {
   "cell_type": "markdown",
   "id": "88323cd3",
   "metadata": {},
   "source": [
    "Next, we specify the negative log-likelihood loss function (which is also the same as cross entropy) as the optimization criterion, and apply the Adam learning rule to optimize the model parameters. "
   ]
  },
  {
   "cell_type": "code",
   "execution_count": 7,
   "id": "f1de3614",
   "metadata": {},
   "outputs": [],
   "source": [
    "# Set loss function and optimizer\n",
    "criterion = nn.NLLLoss()\n",
    "optimizer = optim.Adam(model.parameters(), lr=0.002)"
   ]
  },
  {
   "cell_type": "markdown",
   "id": "4d305a11",
   "metadata": {},
   "source": [
    "We then run the typical PyTorch training loop for 10 epochs."
   ]
  },
  {
   "cell_type": "code",
   "execution_count": 8,
   "id": "3a1e6e4e",
   "metadata": {},
   "outputs": [
    {
     "data": {
      "application/vnd.jupyter.widget-view+json": {
       "model_id": "c41739257e234b2f92ef7154c5014f09",
       "version_major": 2,
       "version_minor": 0
      },
      "text/plain": [
       "Epoch:   0%|          | 0/10 [00:00<?, ?it/s]"
      ]
     },
     "metadata": {},
     "output_type": "display_data"
    },
    {
     "data": {
      "application/vnd.jupyter.widget-view+json": {
       "model_id": "",
       "version_major": 2,
       "version_minor": 0
      },
      "text/plain": [
       "Training batch:   0%|          | 0/38 [00:00<?, ?it/s]"
      ]
     },
     "metadata": {},
     "output_type": "display_data"
    },
    {
     "data": {
      "application/vnd.jupyter.widget-view+json": {
       "model_id": "",
       "version_major": 2,
       "version_minor": 0
      },
      "text/plain": [
       "Training batch:   0%|          | 0/38 [00:00<?, ?it/s]"
      ]
     },
     "metadata": {},
     "output_type": "display_data"
    },
    {
     "data": {
      "application/vnd.jupyter.widget-view+json": {
       "model_id": "",
       "version_major": 2,
       "version_minor": 0
      },
      "text/plain": [
       "Training batch:   0%|          | 0/38 [00:00<?, ?it/s]"
      ]
     },
     "metadata": {},
     "output_type": "display_data"
    },
    {
     "data": {
      "application/vnd.jupyter.widget-view+json": {
       "model_id": "",
       "version_major": 2,
       "version_minor": 0
      },
      "text/plain": [
       "Training batch:   0%|          | 0/38 [00:00<?, ?it/s]"
      ]
     },
     "metadata": {},
     "output_type": "display_data"
    },
    {
     "data": {
      "application/vnd.jupyter.widget-view+json": {
       "model_id": "",
       "version_major": 2,
       "version_minor": 0
      },
      "text/plain": [
       "Training batch:   0%|          | 0/38 [00:00<?, ?it/s]"
      ]
     },
     "metadata": {},
     "output_type": "display_data"
    },
    {
     "data": {
      "application/vnd.jupyter.widget-view+json": {
       "model_id": "",
       "version_major": 2,
       "version_minor": 0
      },
      "text/plain": [
       "Training batch:   0%|          | 0/38 [00:00<?, ?it/s]"
      ]
     },
     "metadata": {},
     "output_type": "display_data"
    },
    {
     "data": {
      "application/vnd.jupyter.widget-view+json": {
       "model_id": "",
       "version_major": 2,
       "version_minor": 0
      },
      "text/plain": [
       "Training batch:   0%|          | 0/38 [00:00<?, ?it/s]"
      ]
     },
     "metadata": {},
     "output_type": "display_data"
    },
    {
     "data": {
      "application/vnd.jupyter.widget-view+json": {
       "model_id": "",
       "version_major": 2,
       "version_minor": 0
      },
      "text/plain": [
       "Training batch:   0%|          | 0/38 [00:00<?, ?it/s]"
      ]
     },
     "metadata": {},
     "output_type": "display_data"
    },
    {
     "data": {
      "application/vnd.jupyter.widget-view+json": {
       "model_id": "",
       "version_major": 2,
       "version_minor": 0
      },
      "text/plain": [
       "Training batch:   0%|          | 0/38 [00:00<?, ?it/s]"
      ]
     },
     "metadata": {},
     "output_type": "display_data"
    },
    {
     "data": {
      "application/vnd.jupyter.widget-view+json": {
       "model_id": "",
       "version_major": 2,
       "version_minor": 0
      },
      "text/plain": [
       "Training batch:   0%|          | 0/38 [00:00<?, ?it/s]"
      ]
     },
     "metadata": {},
     "output_type": "display_data"
    },
    {
     "name": "stdout",
     "output_type": "stream",
     "text": [
      "CPU times: user 6min 26s, sys: 1min 12s, total: 7min 38s\n",
      "Wall time: 6min 13s\n"
     ]
    }
   ],
   "source": [
    "%%time\n",
    "\n",
    "n_epoch = 10\n",
    "for epoch in tqdm(range(n_epoch), desc='Epoch'):\n",
    "    # Toggle training mode\n",
    "    model.train()\n",
    "    \n",
    "    # Training loop\n",
    "    for batch, lengths, labels in tqdm(train_gen, desc='Training batch', leave=False):\n",
    "        # Reset the optimizer\n",
    "        optimizer.zero_grad()\n",
    "        \n",
    "        # Calculate predictions for batch\n",
    "        log_prob = model(batch, lengths)\n",
    "        y_pred = torch.argmax(log_prob, dim=1)\n",
    "        \n",
    "        # Calculate and back-propagate loss\n",
    "        loss = criterion(log_prob, labels)\n",
    "        loss.backward()\n",
    "        \n",
    "        # Update the optimizer\n",
    "        optimizer.step()"
   ]
  },
  {
   "cell_type": "markdown",
   "id": "75d761d2",
   "metadata": {},
   "source": [
    "Finally, we apply the model to the test set in evaluation mode to obtain a test accuracy and confusion matrix."
   ]
  },
  {
   "cell_type": "code",
   "execution_count": 9,
   "id": "c86ee1b2",
   "metadata": {},
   "outputs": [],
   "source": [
    "# Toggle evaluation mode\n",
    "model.eval()\n",
    "\n",
    "# Retrieve test set as a single batch\n",
    "batch, lengths, labels = next(iter(test_gen))\n",
    "\n",
    "# Calculate predictions for test set\n",
    "y = model(batch, lengths)\n",
    "y_pred = torch.argmax(y, dim=1)"
   ]
  },
  {
   "cell_type": "code",
   "execution_count": 10,
   "id": "4c98dfb3",
   "metadata": {},
   "outputs": [],
   "source": [
    "# Calculate accuracy\n",
    "acc = torch.mean((labels == y_pred).float()).item()\n",
    "\n",
    "# Calculate confusion matrix\n",
    "classes = range(10)\n",
    "cm = confusion_matrix(labels, y_pred, labels=classes)"
   ]
  },
  {
   "cell_type": "code",
   "execution_count": 11,
   "id": "e4b64037",
   "metadata": {},
   "outputs": [
    {
     "data": {
      "image/png": "[encoded data removed]",
      "text/plain": [
       "<Figure size 504x504 with 1 Axes>"
      ]
     },
     "metadata": {
      "needs_background": "light"
     },
     "output_type": "display_data"
    },
    {
     "name": "stdout",
     "output_type": "stream",
     "text": [
      "Accuracy: 93.17%\n"
     ]
    }
   ],
   "source": [
    "# Display accuracy and confusion matrix\n",
    "df = pd.DataFrame(cm, index=classes, columns=classes)\n",
    "plt.figure(figsize=(7, 7))\n",
    "sns.heatmap(df, annot=True, cbar=False)\n",
    "plt.title('Confusion matrix for test set predictions', fontsize=14)\n",
    "plt.xlabel('Predicted')\n",
    "plt.ylabel('Actual')\n",
    "plt.show()\n",
    "print('Accuracy: {:.2f}%'.format(acc * 100))"
   ]
  }
 ],
 "metadata": {
  "kernelspec": {
   "display_name": "Python 3",
   "language": "python",
   "name": "python3"
  },
  "language_info": {
   "codemirror_mode": {
    "name": "ipython",
    "version": 3
   },
   "file_extension": ".py",
   "mimetype": "text/x-python",
   "name": "python",
   "nbconvert_exporter": "python",
   "pygments_lexer": "ipython3",
   "version": "3.7.10"
  }
 },
 "nbformat": 4,
 "nbformat_minor": 5
}
