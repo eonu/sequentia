{
 "cells": [
  {
   "cell_type": "markdown",
   "id": "5c2826c7",
   "metadata": {},
   "source": [
    "# Using the `DeepGRU` classifier\n",
    "\n",
    "This notebook aims to showcase how Sequentia's PyTorch implementation of recurrent neural networks (specifically the [DeepGRU](https://arxiv.org/abs/1810.12514) architecture) can be used in a typical sequence classisfication task. \n",
    "\n",
    "In particular, we look at the [Free Spoken Digit Dataset](https://github.com/Jakobovski/free-spoken-digit-dataset), which is an open dataset consisting of audio recordings of spoken digits from 0 to 9. We are interested in the task of determining which digit was spoken based on the audio recordings. Since audio signals are sequential data, we can consider this as a sequence classification problem."
   ]
  },
  {
   "cell_type": "code",
   "execution_count": 1,
   "id": "8569f87f",
   "metadata": {},
   "outputs": [],
   "source": [
    "import torch, librosa, numpy as np, pandas as pd, matplotlib.pyplot as plt, seaborn as sns\n",
    "from torch import utils, nn, optim\n",
    "from tqdm.auto import tqdm\n",
    "from sklearn.metrics import confusion_matrix\n",
    "\n",
    "from sequentia.classifiers.rnn import DeepGRU, collate_fn\n",
    "from sequentia.preprocessing import Compose, Custom, Standardize\n",
    "from sequentia.datasets import load_digits\n",
    "\n",
    "from nbutils import play_audio\n",
    "\n",
    "# Set seed for reproducible randomness\n",
    "random_state = np.random.RandomState(1)"
   ]
  },
  {
   "cell_type": "markdown",
   "id": "93ab97ff",
   "metadata": {},
   "source": [
    "To get started, we first decide to use [Mel-Frequency Cepstrum Coefficients (MFCCs)](https://en.wikipedia.org/wiki/Mel-frequency_cepstrum), which are a common way to represent audio for machine learning. \n",
    "\n",
    "While there are methods that work directly with raw signals, the most common approach is to use transformed features such as MFCCs.\n",
    "\n",
    "In short, MFCCs are used to characterize a particular window (usually 20-40ms) of samples of the original signal, by applying signal processing techniques and transformations to obtain a number of representative coefficients. The signal is divided into overlapping windows, and MFCCs are computed for each.\n",
    "\n",
    "Below, we specify 5 MFCCs along with a number of other configurations for the MFCCs.\n",
    "\n",
    "**Note**: 5 MFCCs is far less than what would be used in typical machine learning tasks, but we use a small number just for demonstration purposes."
   ]
  },
  {
   "cell_type": "code",
   "execution_count": 2,
   "id": "4185d58a",
   "metadata": {},
   "outputs": [],
   "source": [
    "# Set MFCC configuration\n",
    "spec_kwargs = {'sr': 8000, 'n_mfcc': 5, 'n_fft': 1024, 'hop_length': 256, 'power': 2}"
   ]
  },
  {
   "cell_type": "markdown",
   "id": "346b3507",
   "metadata": {},
   "source": [
    "The below code loads the FSDD dataset and generates training and test set splits (80% and 20%, respectively)."
   ]
  },
  {
   "cell_type": "code",
   "execution_count": 3,
   "id": "853cadba",
   "metadata": {},
   "outputs": [],
   "source": [
    "# Load the FSDD dataset\n",
    "dataset = load_digits(random_state=random_state)"
   ]
  },
  {
   "cell_type": "code",
   "execution_count": 4,
   "id": "efb10574",
   "metadata": {},
   "outputs": [
    {
     "name": "stdout",
     "output_type": "stream",
     "text": [
      "Training set size: 2400\n",
      "Test set size: 600\n"
     ]
    }
   ],
   "source": [
    "# Split the dataset into a training and test dataset\n",
    "train_set, test_set = dataset.split(split_size=0.2, stratify=True, shuffle=True)\n",
    "print(f'Training set size: {len(train_set)}')\n",
    "print(f'Test set size: {len(test_set)}')"
   ]
  },
  {
   "cell_type": "code",
   "execution_count": 5,
   "id": "5f01015a",
   "metadata": {},
   "outputs": [],
   "source": [
    "# Fetch the sequences and labels separately\n",
    "X_train, y_train = train_set.data()\n",
    "X_test, y_test = test_set.data()"
   ]
  },
  {
   "cell_type": "markdown",
   "id": "8b18188a",
   "metadata": {},
   "source": [
    "We now define a transformation pipeline that generates and standardizes MFCCs using a custom transform involving the Librosa package and the `Standardize` transformation from Sequentia. This sequence of transformations is packaged into a `Compose` class, which acts in a similar way as [`torchvision.transforms.Compose`](https://pytorch.org/vision/stable/transforms.html#torchvision.transforms.Compose)."
   ]
  },
  {
   "cell_type": "code",
   "execution_count": 6,
   "id": "26309fca",
   "metadata": {},
   "outputs": [
    {
     "name": "stdout",
     "output_type": "stream",
     "text": [
      "                   Preprocessing summary:                   \n",
      "============================================================\n",
      "1. Custom (MFCCs)\n",
      "   Generate MFCCs\n",
      "------------------------------------------------------------\n",
      "2. Standardize\n",
      "   Standard scaling (zero mean, unit variance) (independent)\n",
      "============================================================\n"
     ]
    }
   ],
   "source": [
    "# Create preprocessing pipeline\n",
    "transforms = Compose([\n",
    "    Custom(lambda x: librosa.feature.mfcc(x.flatten(), **spec_kwargs).T, name='MFCCs', desc='Generate MFCCs'),\n",
    "    Standardize()\n",
    "])\n",
    "\n",
    "transforms.summary()"
   ]
  },
  {
   "cell_type": "markdown",
   "id": "52338df1",
   "metadata": {},
   "source": [
    "We apply the same transformations to both the training and test sets."
   ]
  },
  {
   "cell_type": "code",
   "execution_count": 7,
   "id": "26a97aba",
   "metadata": {},
   "outputs": [],
   "source": [
    "mfcc_train = transforms(X_train)\n",
    "mfcc_test = transforms(X_test)"
   ]
  },
  {
   "cell_type": "markdown",
   "id": "6eecf17b",
   "metadata": {},
   "source": [
    "The figure below shows the difference between the raw audio signal of the pronunciation of a digit 5, and the MFCC representation."
   ]
  },
  {
   "cell_type": "code",
   "execution_count": 8,
   "id": "95b83c0f",
   "metadata": {},
   "outputs": [
    {
     "data": {
      "image/png": "[encoded data removed]",
      "text/plain": [
       "<Figure size 864x180 with 2 Axes>"
      ]
     },
     "metadata": {
      "needs_background": "light"
     },
     "output_type": "display_data"
    }
   ],
   "source": [
    "audio, mfcc, digit = X_train[0], mfcc_train[0], y_train[0]\n",
    "time = np.linspace(0, len(audio) / spec_kwargs['sr'], num=len(audio))\n",
    "\n",
    "# Raw audio\n",
    "fig, axs = plt.subplots(ncols=2, figsize=(12, 2.5))\n",
    "axs[0].set(title='Raw audio signal for sample digit {}'.format(digit), xlabel='Time (s)', ylabel='Amplitude')\n",
    "axs[0].plot(time, audio)\n",
    "\n",
    "# MFCCs\n",
    "axs[1].imshow(np.swapaxes(mfcc, 0, 1), interpolation='nearest', cmap='viridis', origin='lower', aspect='auto')\n",
    "axs[1].set(title='MFCCs for sample digit {}'.format(digit), xlabel='Frame', ylabel='MFCC',\n",
    "    xticks=np.arange(len(mfcc)), xticklabels=np.arange(1, len(mfcc) + 1),\n",
    "    yticks=np.arange(mfcc.shape[1]), yticklabels=np.arange(1, mfcc.shape[1] + 1))\n",
    "\n",
    "plt.show()"
   ]
  },
  {
   "cell_type": "markdown",
   "id": "9736c36e",
   "metadata": {},
   "source": [
    "Here is what the recording of this audio sounds like."
   ]
  },
  {
   "cell_type": "code",
   "execution_count": 9,
   "id": "8049bf3c",
   "metadata": {},
   "outputs": [
    {
     "data": {
      "text/html": [
       "\n",
       "                <audio  controls=\"controls\" >\n",
       "                    <source src=\"data:audio/x-wav;base64,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\" type=\"audio/x-wav\" />\n",
       "                    Your browser does not support the audio element.\n",
       "                </audio>\n",
       "              "
      ],
      "text/plain": [
       "<IPython.lib.display.Audio object>"
      ]
     },
     "metadata": {},
     "output_type": "display_data"
    }
   ],
   "source": [
    "# Play the recording of the digit\n",
    "play_audio(audio)"
   ]
  },
  {
   "cell_type": "markdown",
   "id": "c8d67f04",
   "metadata": {},
   "source": [
    "Note that when training and predicting, we rely on the Torch version of the dataset produced by `train_set.to_torch()`, so we must first update the data stored in the `train_set` object to use MFCC values, otherwise we would be using the original unprocessed audio signals."
   ]
  },
  {
   "cell_type": "code",
   "execution_count": 10,
   "id": "aa7b92e3",
   "metadata": {},
   "outputs": [],
   "source": [
    "# Use preprocessed MFCC sequences instead of raw audio\n",
    "train_set.X = mfcc_train\n",
    "test_set.X = mfcc_test"
   ]
  },
  {
   "cell_type": "code",
   "execution_count": 11,
   "id": "b2488637",
   "metadata": {},
   "outputs": [],
   "source": [
    "# Convert Dataset objects to Torch-compatible datasets\n",
    "train_set_torch = train_set.to_torch()\n",
    "test_set_torch = test_set.to_torch()"
   ]
  },
  {
   "cell_type": "markdown",
   "id": "ce8f84be",
   "metadata": {},
   "source": [
    "We now create PyTorch data loaders using these PyTorch datasets, along with the `collate_fn` function provided by Sequentia. The data loaders group together recordings of similar duration into a single batch, as specified by `collate_fn`. \n",
    "\n",
    "We use a batch size of 64 for the training set, and use single batch for the test set."
   ]
  },
  {
   "cell_type": "code",
   "execution_count": 12,
   "id": "48289042",
   "metadata": {},
   "outputs": [],
   "source": [
    "# Create training, validation and test set batch generators\n",
    "train_gen = utils.data.DataLoader(train_set_torch, collate_fn=collate_fn, batch_size=64, shuffle=True, num_workers=0)\n",
    "test_gen = utils.data.DataLoader(test_set_torch, collate_fn=collate_fn, batch_size=len(test_set), num_workers=0)"
   ]
  },
  {
   "cell_type": "markdown",
   "id": "c1afa7ff",
   "metadata": {},
   "source": [
    "Next, we initialize the `DeepGRU` model by specifying the dimensions of the input, and the number of classes."
   ]
  },
  {
   "cell_type": "code",
   "execution_count": 13,
   "id": "b6ce3835",
   "metadata": {},
   "outputs": [],
   "source": [
    "# Create a DeepGRU neural network model\n",
    "device = 'cuda:0' if torch.cuda.is_available() else 'cpu'\n",
    "model = DeepGRU(n_features=spec_kwargs['n_mfcc'], n_classes=10, device=device)"
   ]
  },
  {
   "cell_type": "markdown",
   "id": "88323cd3",
   "metadata": {},
   "source": [
    "Next, we specify the negative log-likelihood loss function (which is also the same as cross entropy) as the optimization criterion, and apply the Adam learning rule to optimize the model parameters. "
   ]
  },
  {
   "cell_type": "code",
   "execution_count": 14,
   "id": "f1de3614",
   "metadata": {},
   "outputs": [],
   "source": [
    "# Set loss function and optimizer\n",
    "criterion = nn.NLLLoss()\n",
    "optimizer = optim.Adam(model.parameters(), lr=0.002)"
   ]
  },
  {
   "cell_type": "markdown",
   "id": "4d305a11",
   "metadata": {},
   "source": [
    "We then run the typical PyTorch training loop for 10 epochs."
   ]
  },
  {
   "cell_type": "code",
   "execution_count": 15,
   "id": "3a1e6e4e",
   "metadata": {},
   "outputs": [
    {
     "data": {
      "application/vnd.jupyter.widget-view+json": {
       "model_id": "68d0d3fb3241457da2c00c50ac7521db",
       "version_major": 2,
       "version_minor": 0
      },
      "text/plain": [
       "Epochs:   0%|          | 0/10 [00:00<?, ?it/s]"
      ]
     },
     "metadata": {},
     "output_type": "display_data"
    },
    {
     "data": {
      "application/vnd.jupyter.widget-view+json": {
       "model_id": "a3b5d389f1ab46d09cf304c0d7981cd5",
       "version_major": 2,
       "version_minor": 0
      },
      "text/plain": [
       "Training batches:   0%|          | 0/38 [00:00<?, ?it/s]"
      ]
     },
     "metadata": {},
     "output_type": "display_data"
    },
    {
     "data": {
      "application/vnd.jupyter.widget-view+json": {
       "model_id": "2825cf9d06ad4b0682374ab31648105c",
       "version_major": 2,
       "version_minor": 0
      },
      "text/plain": [
       "Training batches:   0%|          | 0/38 [00:00<?, ?it/s]"
      ]
     },
     "metadata": {},
     "output_type": "display_data"
    },
    {
     "data": {
      "application/vnd.jupyter.widget-view+json": {
       "model_id": "48b20324bec14bc39091d4e7ea7cb41a",
       "version_major": 2,
       "version_minor": 0
      },
      "text/plain": [
       "Training batches:   0%|          | 0/38 [00:00<?, ?it/s]"
      ]
     },
     "metadata": {},
     "output_type": "display_data"
    },
    {
     "data": {
      "application/vnd.jupyter.widget-view+json": {
       "model_id": "ddc93e322df24f8aab2df6c901628dc9",
       "version_major": 2,
       "version_minor": 0
      },
      "text/plain": [
       "Training batches:   0%|          | 0/38 [00:00<?, ?it/s]"
      ]
     },
     "metadata": {},
     "output_type": "display_data"
    },
    {
     "data": {
      "application/vnd.jupyter.widget-view+json": {
       "model_id": "b7f310f510c84c92909468b742f873a4",
       "version_major": 2,
       "version_minor": 0
      },
      "text/plain": [
       "Training batches:   0%|          | 0/38 [00:00<?, ?it/s]"
      ]
     },
     "metadata": {},
     "output_type": "display_data"
    },
    {
     "data": {
      "application/vnd.jupyter.widget-view+json": {
       "model_id": "d323bc21f9fe433b974fe7d507fef3dd",
       "version_major": 2,
       "version_minor": 0
      },
      "text/plain": [
       "Training batches:   0%|          | 0/38 [00:00<?, ?it/s]"
      ]
     },
     "metadata": {},
     "output_type": "display_data"
    },
    {
     "data": {
      "application/vnd.jupyter.widget-view+json": {
       "model_id": "152b88cac3c842d1a4d8493f0e649560",
       "version_major": 2,
       "version_minor": 0
      },
      "text/plain": [
       "Training batches:   0%|          | 0/38 [00:00<?, ?it/s]"
      ]
     },
     "metadata": {},
     "output_type": "display_data"
    },
    {
     "data": {
      "application/vnd.jupyter.widget-view+json": {
       "model_id": "ff22cab7913b4845a5ba22d2233eb774",
       "version_major": 2,
       "version_minor": 0
      },
      "text/plain": [
       "Training batches:   0%|          | 0/38 [00:00<?, ?it/s]"
      ]
     },
     "metadata": {},
     "output_type": "display_data"
    },
    {
     "data": {
      "application/vnd.jupyter.widget-view+json": {
       "model_id": "10a368de3fe040ed81858185bd94858d",
       "version_major": 2,
       "version_minor": 0
      },
      "text/plain": [
       "Training batches:   0%|          | 0/38 [00:00<?, ?it/s]"
      ]
     },
     "metadata": {},
     "output_type": "display_data"
    },
    {
     "data": {
      "application/vnd.jupyter.widget-view+json": {
       "model_id": "51d6c6d1a4b14a7d9b53d432d319fee8",
       "version_major": 2,
       "version_minor": 0
      },
      "text/plain": [
       "Training batches:   0%|          | 0/38 [00:00<?, ?it/s]"
      ]
     },
     "metadata": {},
     "output_type": "display_data"
    },
    {
     "name": "stdout",
     "output_type": "stream",
     "text": [
      "CPU times: user 7min 58s, sys: 58.3 s, total: 8min 56s\n",
      "Wall time: 5min 22s\n"
     ]
    }
   ],
   "source": [
    "%%time\n",
    "\n",
    "n_epoch = 10\n",
    "for epoch in tqdm(range(n_epoch), desc='Epochs'):\n",
    "    # Toggle training mode\n",
    "    model.train()\n",
    "    \n",
    "    # Training loop\n",
    "    for batch, lengths, labels in tqdm(train_gen, desc='Training batches', leave=True):\n",
    "        # Send data to the device\n",
    "        batch, lengths, labels = batch.to(device), lengths.to(device), labels.to(device)\n",
    "        \n",
    "        # Reset the optimizer\n",
    "        optimizer.zero_grad()\n",
    "        \n",
    "        # Calculate predictions for batch\n",
    "        log_prob = model(batch, lengths)\n",
    "        y_pred = torch.argmax(log_prob, dim=1)\n",
    "        \n",
    "        # Calculate and back-propagate loss\n",
    "        loss = criterion(log_prob, labels)\n",
    "        loss.backward()\n",
    "        \n",
    "        # Update the optimizer\n",
    "        optimizer.step()"
   ]
  },
  {
   "cell_type": "markdown",
   "id": "75d761d2",
   "metadata": {},
   "source": [
    "Finally, we apply the model to the test set in evaluation mode to obtain a test accuracy and confusion matrix."
   ]
  },
  {
   "cell_type": "code",
   "execution_count": 16,
   "id": "c86ee1b2",
   "metadata": {},
   "outputs": [
    {
     "name": "stdout",
     "output_type": "stream",
     "text": [
      "CPU times: user 1.84 s, sys: 363 ms, total: 2.2 s\n",
      "Wall time: 1.81 s\n"
     ]
    }
   ],
   "source": [
    "%%time\n",
    "\n",
    "# Toggle evaluation mode\n",
    "model.eval()\n",
    "\n",
    "# Retrieve test set as a single batch\n",
    "batch, lengths, labels = next(iter(test_gen))\n",
    "# Send data to device\n",
    "batch, lengths, labels = batch.to(device), lengths.to(device), labels.to(device)\n",
    "\n",
    "# Calculate predictions for test set\n",
    "y = model(batch, lengths)\n",
    "y_pred = torch.argmax(y, dim=1)"
   ]
  },
  {
   "cell_type": "code",
   "execution_count": 17,
   "id": "4c98dfb3",
   "metadata": {},
   "outputs": [],
   "source": [
    "# Calculate accuracy\n",
    "acc = torch.mean((labels == y_pred).float()).item()\n",
    "\n",
    "# Calculate confusion matrix\n",
    "classes = range(10)\n",
    "cm = confusion_matrix(labels, y_pred, labels=classes)"
   ]
  },
  {
   "cell_type": "code",
   "execution_count": 18,
   "id": "e4b64037",
   "metadata": {},
   "outputs": [
    {
     "data": {
      "image/png": "[encoded data removed]",
      "text/plain": [
       "<Figure size 504x504 with 1 Axes>"
      ]
     },
     "metadata": {
      "needs_background": "light"
     },
     "output_type": "display_data"
    },
    {
     "name": "stdout",
     "output_type": "stream",
     "text": [
      "Accuracy: 88.67%\n"
     ]
    }
   ],
   "source": [
    "# Display accuracy and confusion matrix\n",
    "df = pd.DataFrame(cm, index=classes, columns=classes)\n",
    "plt.figure(figsize=(7, 7))\n",
    "sns.heatmap(df, annot=True, cbar=False)\n",
    "plt.title('Confusion matrix for test set predictions', fontsize=14)\n",
    "plt.xlabel('Predicted')\n",
    "plt.ylabel('Actual')\n",
    "plt.show()\n",
    "print(f'Accuracy: {(acc * 100):.2f}%')"
   ]
  }
 ],
 "metadata": {
  "kernelspec": {
   "display_name": "Python 3 (ipykernel)",
   "language": "python",
   "name": "python3"
  },
  "language_info": {
   "codemirror_mode": {
    "name": "ipython",
    "version": 3
   },
   "file_extension": ".py",
   "mimetype": "text/x-python",
   "name": "python",
   "nbconvert_exporter": "python",
   "pygments_lexer": "ipython3",
   "version": "3.9.7"
  }
 },
 "nbformat": 4,
 "nbformat_minor": 5
}
