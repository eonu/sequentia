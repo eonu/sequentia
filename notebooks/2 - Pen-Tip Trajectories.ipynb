{
 "cells": [
  {
   "cell_type": "code",
   "execution_count": 1,
   "metadata": {},
   "outputs": [],
   "source": [
    "import matplotlib.pyplot as plt\n",
    "import numpy as np\n",
    "import pandas as pd\n",
    "import requests\n",
    "import os\n",
    "from scipy.io import loadmat\n",
    "from sklearn.model_selection import train_test_split\n",
    "from sequentia.classifiers import DTWKNN\n",
    "\n",
    "rng = np.random.RandomState(72)"
   ]
  },
  {
   "cell_type": "code",
   "execution_count": 2,
   "metadata": {},
   "outputs": [],
   "source": [
    "data = None\n",
    "url = 'https://archive.ics.uci.edu/ml/machine-learning-databases/character-trajectories/mixoutALL_shifted.mat'\n",
    "\n",
    "try:\n",
    "    path = os.path.join(os.getcwd(), 'temp.mat')\n",
    "    response = requests.get(url)\n",
    "except:\n",
    "    raise\n",
    "else:\n",
    "    with open(path, 'wb') as file:\n",
    "        file.write(response.content)\n",
    "        data = loadmat(path)\n",
    "finally:\n",
    "    os.remove(path)"
   ]
  },
  {
   "cell_type": "code",
   "execution_count": 3,
   "metadata": {},
   "outputs": [],
   "source": [
    "X = [x.T for x in data['mixout'][0]]"
   ]
  },
  {
   "cell_type": "code",
   "execution_count": 4,
   "metadata": {},
   "outputs": [],
   "source": [
    "get_char = lambda idx: data['consts'][0][0][3][0][idx - 1][0]\n",
    "y = [get_char(label) for label in data['consts'][0][0][4][0]]"
   ]
  },
  {
   "cell_type": "code",
   "execution_count": 5,
   "metadata": {},
   "outputs": [],
   "source": [
    "X_train, X_test, y_train, y_test = train_test_split(X, y, test_size=0.2, random_state=rng)"
   ]
  },
  {
   "cell_type": "code",
   "execution_count": 20,
   "metadata": {},
   "outputs": [
    {
     "data": {
      "text/plain": [
       "<matplotlib.legend.Legend at 0x1232d1f28>"
      ]
     },
     "execution_count": 20,
     "metadata": {},
     "output_type": "execute_result"
    },
    {
     "data": {
      "image/png": "[encoded data removed]",
      "text/plain": [
       "<Figure size 432x288 with 1 Axes>"
      ]
     },
     "metadata": {
      "needs_background": "light"
     },
     "output_type": "display_data"
    }
   ],
   "source": [
    "#plt.plot(X_train[500])\n",
    "#plt.legend(labels=['x', 'y', 'force'])"
   ]
  },
  {
   "cell_type": "code",
   "execution_count": 27,
   "metadata": {},
   "outputs": [
    {
     "data": {
      "text/plain": [
       "array([[ 0.00000000e+00,  0.00000000e+00],\n",
       "       [ 0.00000000e+00,  0.00000000e+00],\n",
       "       [ 0.00000000e+00,  0.00000000e+00],\n",
       "       [ 2.42073029e-02,  6.35141186e-02],\n",
       "       [ 3.09789066e-02,  6.96197347e-02],\n",
       "       [ 3.48650902e-02,  6.11706313e-02],\n",
       "       [ 3.66663669e-02,  3.75677842e-02],\n",
       "       [ 3.86023912e-02, -8.00463250e-05],\n",
       "       [ 4.31949155e-02, -5.16347570e-02],\n",
       "       [ 5.24852094e-02, -1.17982017e-01],\n",
       "       [ 6.70022757e-02, -1.99212631e-01],\n",
       "       [ 8.48857735e-02, -2.93567824e-01],\n",
       "       [ 1.02400916e-01, -3.98057182e-01],\n",
       "       [ 1.15877266e-01, -5.09376138e-01],\n",
       "       [ 1.23534159e-01, -6.23999815e-01],\n",
       "       [ 1.25670648e-01, -7.38031776e-01],\n",
       "       [ 1.23436940e-01, -8.47733667e-01],\n",
       "       [ 1.17818909e-01, -9.50504202e-01],\n",
       "       [ 1.09790115e-01, -1.04535822e+00],\n",
       "       [ 1.00868417e-01, -1.13243862e+00],\n",
       "       [ 9.28485042e-02, -1.21185643e+00],\n",
       "       [ 8.69226552e-02, -1.28247442e+00],\n",
       "       [ 8.35860405e-02, -1.34120862e+00],\n",
       "       [ 8.35910194e-02, -1.38319877e+00],\n",
       "       [ 8.86211062e-02, -1.40281100e+00],\n",
       "       [ 1.00756409e-01, -1.39499093e+00],\n",
       "       [ 1.21099143e-01, -1.35636896e+00],\n",
       "       [ 1.48598452e-01, -1.28593343e+00],\n",
       "       [ 1.80112723e-01, -1.18547204e+00],\n",
       "       [ 2.11703402e-01, -1.05979274e+00],\n",
       "       [ 2.39879198e-01, -9.16335965e-01],\n",
       "       [ 2.61982975e-01, -7.63945257e-01],\n",
       "       [ 2.76272159e-01, -6.11317259e-01],\n",
       "       [ 2.82173788e-01, -4.65959935e-01],\n",
       "       [ 2.80375007e-01, -3.33674495e-01],\n",
       "       [ 2.72575297e-01, -2.17866537e-01],\n",
       "       [ 2.61244927e-01, -1.18778116e-01],\n",
       "       [ 2.49445536e-01, -3.38432554e-02],\n",
       "       [ 2.40373748e-01,  4.04506678e-02],\n",
       "       [ 2.36720062e-01,  1.06912153e-01],\n",
       "       [ 2.40368637e-01,  1.67946757e-01],\n",
       "       [ 2.52469739e-01,  2.26813399e-01],\n",
       "       [ 2.73454337e-01,  2.87426398e-01],\n",
       "       [ 3.03040663e-01,  3.52604602e-01],\n",
       "       [ 3.40647521e-01,  4.23014469e-01],\n",
       "       [ 3.86031925e-01,  4.98000302e-01],\n",
       "       [ 4.39423554e-01,  5.77113807e-01],\n",
       "       [ 5.00895075e-01,  6.60651937e-01],\n",
       "       [ 5.69617316e-01,  7.48881823e-01],\n",
       "       [ 6.43785114e-01,  8.41025200e-01],\n",
       "       [ 7.21135272e-01,  9.35104273e-01],\n",
       "       [ 7.99372507e-01,  1.02853269e+00],\n",
       "       [ 8.76231489e-01,  1.11848741e+00],\n",
       "       [ 9.49375132e-01,  1.20172629e+00],\n",
       "       [ 1.01629657e+00,  1.27452733e+00],\n",
       "       [ 1.07441549e+00,  1.33327886e+00],\n",
       "       [ 1.12153036e+00,  1.37525025e+00],\n",
       "       [ 1.15636227e+00,  1.39870671e+00],\n",
       "       [ 1.17870861e+00,  1.40239436e+00],\n",
       "       [ 1.18902982e+00,  1.38530555e+00],\n",
       "       [ 1.18760630e+00,  1.34710234e+00],\n",
       "       [ 1.17355114e+00,  1.28837635e+00],\n",
       "       [ 1.14416050e+00,  1.21009664e+00],\n",
       "       [ 1.09526271e+00,  1.11303677e+00],\n",
       "       [ 1.02293133e+00,  9.98345040e-01],\n",
       "       [ 9.25827999e-01,  8.68964710e-01],\n",
       "       [ 8.06453051e-01,  7.30336278e-01],\n",
       "       [ 6.70316468e-01,  5.89365348e-01],\n",
       "       [ 5.24044547e-01,  4.52276515e-01],\n",
       "       [ 3.74093747e-01,  3.22917250e-01],\n",
       "       [ 2.26314876e-01,  2.02592269e-01],\n",
       "       [ 8.56956306e-02,  9.14229808e-02],\n",
       "       [-4.33200563e-02, -9.53044907e-03],\n",
       "       [-1.55164957e-01, -9.66067118e-02],\n",
       "       [-2.41802293e-01, -1.63743499e-01],\n",
       "       [-2.95105683e-01, -2.05273100e-01],\n",
       "       [-3.12972784e-01, -2.20197437e-01],\n",
       "       [-3.03502698e-01, -2.14658183e-01],\n",
       "       [-2.81747289e-01, -1.99601363e-01],\n",
       "       [-2.61230181e-01, -1.84950644e-01],\n",
       "       [-2.48086171e-01, -1.75399116e-01],\n",
       "       [-2.41831375e-01, -1.70794936e-01],\n",
       "       [-2.39554645e-01, -1.69101806e-01],\n",
       "       [-2.38913208e-01, -1.68620836e-01],\n",
       "       [-2.38772611e-01, -1.68514707e-01],\n",
       "       [-2.38748580e-01, -1.68496470e-01],\n",
       "       [-2.38745349e-01, -1.68494009e-01],\n",
       "       [-2.38744690e-01, -1.68493524e-01],\n",
       "       [-2.38741515e-01, -1.68491281e-01],\n",
       "       [-2.38717620e-01, -1.68474417e-01],\n",
       "       [-2.38575468e-01, -1.68374094e-01],\n",
       "       [-2.37911601e-01, -1.67905572e-01],\n",
       "       [-2.35474420e-01, -1.66185536e-01],\n",
       "       [-2.28430429e-01, -1.61214256e-01],\n",
       "       [-2.12379219e-01, -1.49886151e-01],\n",
       "       [-1.83503815e-01, -1.29507400e-01],\n",
       "       [-1.42451278e-01, -1.00534666e-01],\n",
       "       [ 0.00000000e+00,  0.00000000e+00],\n",
       "       [ 0.00000000e+00,  0.00000000e+00],\n",
       "       [ 0.00000000e+00,  0.00000000e+00],\n",
       "       [ 0.00000000e+00,  0.00000000e+00],\n",
       "       [ 0.00000000e+00,  0.00000000e+00],\n",
       "       [ 0.00000000e+00,  0.00000000e+00],\n",
       "       [ 0.00000000e+00,  0.00000000e+00],\n",
       "       [ 0.00000000e+00,  0.00000000e+00],\n",
       "       [ 0.00000000e+00,  0.00000000e+00],\n",
       "       [ 0.00000000e+00,  0.00000000e+00],\n",
       "       [ 0.00000000e+00,  0.00000000e+00],\n",
       "       [ 0.00000000e+00,  0.00000000e+00],\n",
       "       [ 0.00000000e+00,  0.00000000e+00],\n",
       "       [ 0.00000000e+00,  0.00000000e+00],\n",
       "       [ 0.00000000e+00,  0.00000000e+00],\n",
       "       [ 0.00000000e+00,  0.00000000e+00],\n",
       "       [ 0.00000000e+00,  0.00000000e+00],\n",
       "       [ 0.00000000e+00,  0.00000000e+00],\n",
       "       [ 0.00000000e+00,  0.00000000e+00],\n",
       "       [ 0.00000000e+00,  0.00000000e+00],\n",
       "       [ 0.00000000e+00,  0.00000000e+00],\n",
       "       [ 0.00000000e+00,  0.00000000e+00],\n",
       "       [ 0.00000000e+00,  0.00000000e+00],\n",
       "       [ 0.00000000e+00,  0.00000000e+00],\n",
       "       [ 0.00000000e+00,  0.00000000e+00],\n",
       "       [ 0.00000000e+00,  0.00000000e+00],\n",
       "       [ 0.00000000e+00,  0.00000000e+00],\n",
       "       [ 0.00000000e+00,  0.00000000e+00],\n",
       "       [ 0.00000000e+00,  0.00000000e+00],\n",
       "       [ 0.00000000e+00,  0.00000000e+00],\n",
       "       [ 0.00000000e+00,  0.00000000e+00],\n",
       "       [ 0.00000000e+00,  0.00000000e+00],\n",
       "       [ 0.00000000e+00,  0.00000000e+00],\n",
       "       [ 0.00000000e+00,  0.00000000e+00],\n",
       "       [ 0.00000000e+00,  0.00000000e+00],\n",
       "       [ 0.00000000e+00,  0.00000000e+00],\n",
       "       [ 0.00000000e+00,  0.00000000e+00],\n",
       "       [ 0.00000000e+00,  0.00000000e+00],\n",
       "       [ 0.00000000e+00,  0.00000000e+00],\n",
       "       [ 0.00000000e+00,  0.00000000e+00],\n",
       "       [ 0.00000000e+00,  0.00000000e+00],\n",
       "       [ 0.00000000e+00,  0.00000000e+00],\n",
       "       [ 0.00000000e+00,  0.00000000e+00],\n",
       "       [ 0.00000000e+00,  0.00000000e+00],\n",
       "       [ 0.00000000e+00,  0.00000000e+00],\n",
       "       [ 0.00000000e+00,  0.00000000e+00],\n",
       "       [ 0.00000000e+00,  0.00000000e+00],\n",
       "       [ 0.00000000e+00,  0.00000000e+00],\n",
       "       [ 0.00000000e+00,  0.00000000e+00],\n",
       "       [ 0.00000000e+00,  0.00000000e+00],\n",
       "       [ 0.00000000e+00,  0.00000000e+00],\n",
       "       [ 0.00000000e+00,  0.00000000e+00],\n",
       "       [ 0.00000000e+00,  0.00000000e+00],\n",
       "       [ 0.00000000e+00,  0.00000000e+00],\n",
       "       [ 0.00000000e+00,  0.00000000e+00]])"
      ]
     },
     "execution_count": 27,
     "metadata": {},
     "output_type": "execute_result"
    }
   ],
   "source": [
    "x = X_train[0][:, :2]\n"
   ]
  },
  {
   "cell_type": "code",
   "execution_count": null,
   "metadata": {},
   "outputs": [],
   "source": []
  }
 ],
 "metadata": {
  "kernelspec": {
   "display_name": "Python 3",
   "language": "python",
   "name": "python3"
  },
  "language_info": {
   "codemirror_mode": {
    "name": "ipython",
    "version": 3
   },
   "file_extension": ".py",
   "mimetype": "text/x-python",
   "name": "python",
   "nbconvert_exporter": "python",
   "pygments_lexer": "ipython3",
   "version": "3.7.2"
  }
 },
 "nbformat": 4,
 "nbformat_minor": 2
}
