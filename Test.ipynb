{
 "cells": [
  {
   "cell_type": "code",
   "execution_count": 1,
   "metadata": {},
   "outputs": [],
   "source": [
    "import numpy as np\n",
    "import matplotlib.pyplot as plt\n",
    "from sequentia.preprocessing import *"
   ]
  },
  {
   "cell_type": "code",
   "execution_count": 4,
   "metadata": {},
   "outputs": [
    {
     "data": {
      "application/vnd.jupyter.widget-view+json": {
       "model_id": "237ec1732e0e4e5fa1873c1b4c912d93",
       "version_major": 2,
       "version_minor": 0
      },
      "text/plain": [
       "HBox(children=(IntProgress(value=0, description='Applying transformations', layout=Layout(flex='2'), max=7, st…"
      ]
     },
     "metadata": {},
     "output_type": "display_data"
    },
    {
     "name": "stdout",
     "output_type": "stream",
     "text": [
      "\n",
      "            Preprocessing summary:            \n",
      "==============================================\n",
      "1. MinMaxScale\n",
      "   Min-max scaling into range (0, 5)\n",
      "----------------------------------------------\n",
      "2. Filter\n",
      "   Median filtering with window-size 2\n",
      "----------------------------------------------\n",
      "3. Downsample\n",
      "   Decimation downsampling with factor 2\n",
      "----------------------------------------------\n",
      "4. Center\n",
      "   Centering around mean (zero mean)\n",
      "----------------------------------------------\n",
      "5. Standardize\n",
      "   Standard scaling (zero mean, unit variance)\n",
      "----------------------------------------------\n",
      "6. Equalize\n",
      "   Equalize sequence lengths\n",
      "----------------------------------------------\n",
      "7. TrimZeros\n",
      "   Remove all-zero observations\n",
      "==============================================\n"
     ]
    }
   ],
   "source": [
    "pre = Preprocess([\n",
    "    MinMaxScale(scale=(0, 5)),\n",
    "    Filter(window_size=2),\n",
    "    Downsample(factor=2),\n",
    "    Center(),\n",
    "    Standardize(),\n",
    "    Equalize(),\n",
    "    TrimZeros()\n",
    "])\n",
    "\n",
    "Xs = [\n",
    "    np.random.rand(9, 3) * 2.5,\n",
    "    np.random.rand(5, 3) * 5\n",
    "]# * 1000\n",
    "\n",
    "X1 = np.arange(45).reshape(-1, 3)\n",
    "\n",
    "pre.transform(Xs, verbose=True)\n",
    "pre.summary()"
   ]
  },
  {
   "cell_type": "code",
   "execution_count": null,
   "metadata": {},
   "outputs": [],
   "source": []
  }
 ],
 "metadata": {
  "kernelspec": {
   "display_name": "Python 3",
   "language": "python",
   "name": "python3"
  },
  "language_info": {
   "codemirror_mode": {
    "name": "ipython",
    "version": 3
   },
   "file_extension": ".py",
   "mimetype": "text/x-python",
   "name": "python",
   "nbconvert_exporter": "python",
   "pygments_lexer": "ipython3",
   "version": "3.7.2"
  }
 },
 "nbformat": 4,
 "nbformat_minor": 2
}
